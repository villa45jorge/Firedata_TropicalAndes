{
  "nbformat": 4,
  "nbformat_minor": 0,
  "metadata": {
    "colab": {
      "provenance": []
    },
    "kernelspec": {
      "name": "python3",
      "display_name": "Python 3"
    },
    "language_info": {
      "name": "python"
    }
  },
  "cells": [
    {
      "cell_type": "markdown",
      "source": [
        "## **BURNED AREA FIRECCI51 FOR ANDES FIRES PIPELINE**"
      ],
      "metadata": {
        "id": "FXv3z7WR_9j8"
      }
    },
    {
      "cell_type": "markdown",
      "source": [
        " * Import Libraries -> Check disponibilities of the libraries\n",
        " * Import Datasets -> Take dataset from GEE Catalog\n",
        " * Final Code:\n",
        "  1. Preprocesing MCD64A1 -> Extract data from Data Catalog GEE.\n",
        "  2. Download Burned Areas CSV -> Dowlondaing raw data format CSV\n",
        "  3. Download Burned Areas SHP -> Dowlondaing raw data format SHP\n",
        "  4. Data Filtering MCD64A1 -> Filtering and merge Burned Area CSV and SHP\n",
        "  5. Merge Datasets -> Combine csv and shp files\n",
        "  6. Calculate Area -> Calculate area of burned areas"
      ],
      "metadata": {
        "id": "bfCR99uEAE5V"
      }
    },
    {
      "cell_type": "markdown",
      "source": [
        "#**Import Libraries**"
      ],
      "metadata": {
        "id": "iX0AnXHOAKTl"
      }
    },
    {
      "cell_type": "code",
      "execution_count": null,
      "metadata": {
        "id": "z10PTwmRnCzK"
      },
      "outputs": [],
      "source": [
        "import ee\n",
        "import geemap\n",
        "from datetime import datetime\n",
        "import pandas as pd\n",
        "import numpy as np\n",
        "from tqdm.notebook import tqdm\n",
        "import geopandas as gpd\n",
        "\n",
        "#Compte Earth Engine\n",
        "ee.Authenticate()\n",
        "ee.Initialize(project='ee-villa45ramos')"
      ]
    },
    {
      "cell_type": "markdown",
      "source": [
        "#**Import Datasets**"
      ],
      "metadata": {
        "id": "8p13QPnDAPes"
      }
    },
    {
      "cell_type": "code",
      "source": [
        "datasets= {'dem': ee.Image(\"USGS/SRTMGL1_003\"),\n",
        "           'WorldCoverESA':ee.ImageCollection('ESA/WorldCover/v100'),\n",
        "           'countries':ee.FeatureCollection(\"FAO/GAUL_SIMPLIFIED_500m/2015/level0\"),\n",
        "           'andes':ee.Geometry.BBox( -84.0, -30.0, -62.0, 12.0).buffer(1000),\n",
        "           'FireCCI51':ee.ImageCollection(\"ESA/CCI/FireCCI/5_1\"),\n",
        "           'startDate' : '2012-01-01',#2001-01-01 and 2012-01-01\n",
        "           'endDate' : '2024-01-01',#2011-12-30 and 2024-01-01\n",
        "           'dir_csv':'/content/drive/MyDrive/PFE_CIRAD_AMAP/3_FIRECCI/Inter_data_FireCCI/FireCCI_BA_Country_2000-01-01_2012-01-01.csv',#change csv (2 parts)\n",
        "           'dir_shp':'/content/drive/MyDrive/PFE_CIRAD_AMAP/3_FIRECCI/Inter_data_FireCCI/FireCCI_BA_Country_2000-01-01_2012-01-01.shp',#change shp (2 parts)\n",
        "           'dir1_csv':'/content/drive/MyDrive/PFE_CIRAD_AMAP/3_FIRECCI/Inter_data_FireCCI/FireCCI_BA_Country_2000-01-01_2012-01-01.csv',\n",
        "           'dir1_shp':'/content/drive/MyDrive/PFE_CIRAD_AMAP/3_FIRECCI/Inter_data_FireCCI/FireCCI_BA_Country_2000-01-01_2012-01-01.shp',\n",
        "           'dir2_csv':'/content/drive/MyDrive/PFE_CIRAD_AMAP/3_FIRECCI/Inter_data_FireCCI/FireCCI_BA_Country_2012-01-01_2024-01-01.csv',\n",
        "           'dir2_shp':'/content/drive/MyDrive/PFE_CIRAD_AMAP/3_FIRECCI/Inter_data_FireCCI/FireCCI_BA_Country_2012-01-01_2024-01-01.shp'}"
      ],
      "metadata": {
        "colab": {
          "base_uri": "https://localhost:8080/",
          "height": 17
        },
        "id": "9l1IoBf9nboA",
        "outputId": "053b9d6d-bc43-4cd5-fe24-8dd19cfe1bb4"
      },
      "execution_count": null,
      "outputs": [
        {
          "output_type": "display_data",
          "data": {
            "text/plain": [
              "<IPython.core.display.HTML object>"
            ],
            "text/html": [
              "\n",
              "            <style>\n",
              "                .geemap-dark {\n",
              "                    --jp-widgets-color: white;\n",
              "                    --jp-widgets-label-color: white;\n",
              "                    --jp-ui-font-color1: white;\n",
              "                    --jp-layout-color2: #454545;\n",
              "                    background-color: #383838;\n",
              "                }\n",
              "\n",
              "                .geemap-dark .jupyter-button {\n",
              "                    --jp-layout-color3: #383838;\n",
              "                }\n",
              "\n",
              "                .geemap-colab {\n",
              "                    background-color: var(--colab-primary-surface-color, white);\n",
              "                }\n",
              "\n",
              "                .geemap-colab .jupyter-button {\n",
              "                    --jp-layout-color3: var(--colab-primary-surface-color, white);\n",
              "                }\n",
              "            </style>\n",
              "            "
            ]
          },
          "metadata": {}
        }
      ]
    },
    {
      "cell_type": "markdown",
      "source": [
        "# **Final Code**"
      ],
      "metadata": {
        "id": "4Rz1PdZbwLmt"
      }
    },
    {
      "cell_type": "markdown",
      "source": [
        "## *1. Preprocesing FIRECC51*"
      ],
      "metadata": {
        "id": "J7ev6bkvLSwu"
      }
    },
    {
      "cell_type": "code",
      "source": [
        "# -*- coding: utf-8 -*-\n",
        "\"\"\"\n",
        "Created on 22/10/2024 19:15:46\n",
        "Version 2.0.0\n",
        "@author: jvilla\n",
        "\"\"\"\n",
        "def BurnedAreasFireCCI(roi,dem,wc,firecci51,pays,startDate,endDate):\n",
        "  \"\"\"\n",
        "  This function extract Burned Areas from FIRECCI51 projet\n",
        "\n",
        "  Parameters:\n",
        "  ----------------------\n",
        "  roi: ee.Geometry\n",
        "    Region of interest (geometry).\n",
        "  dem: ee.Image\n",
        "    DEM Elevation data.\n",
        "  wc: ee.ImageCollection\n",
        "    WorldCover image collection.\n",
        "  firecci51: ee.ImageCollection\n",
        "    FireCCI51 image collection.\n",
        "  pays: ee.FeatureCollection\n",
        "    List of countries.\n",
        "  starDate: str\n",
        "    Start date for filtering.\n",
        "  endDate: str\n",
        "    End date for filtering.\n",
        "\n",
        "  Returns:\n",
        "  ----------------------\n",
        "  Extract_BA: ee.FeatureCollection\n",
        "    Collection of burned areas.\n",
        "  \"\"\"\n",
        "\n",
        "  try:\n",
        "    def elevation(dem,roi):\n",
        "      dem2 = dem.clip(roi)\n",
        "      elev = dem2.gte(2000)\n",
        "      elev_moscaic = dem2.updateMask(elev)\n",
        "      return elev_moscaic\n",
        "\n",
        "    def worldcover(roi,wc):\n",
        "      def clipStudyArea(img):\n",
        "        return img.clip(roi)\n",
        "      return wc.filterBounds(roi).map(clipStudyArea).mosaic()\n",
        "\n",
        "    elev_mosaic = elevation(dem, roi)\n",
        "\n",
        "    def BurnedArea(mcd64a1,roi,elev_moscaic):\n",
        "      def clipStudyArea(img):\n",
        "        return img.clip(roi)\n",
        "      def cpPro(img):\n",
        "          return img.copyProperties(img, [\"system:time_start\"])\n",
        "      FIAndes = firecci51.filterDate(startDate,endDate)\n",
        "      burnedArea = FIAndes.filterBounds(elev_moscaic.geometry()).map(clipStudyArea).map(cpPro)\n",
        "      return burnedArea\n",
        "\n",
        "    def country(pays):\n",
        "      countries = ee.List([195,51,12,33,73,57,263]); #Peru, Chile, Argentina,BOlivia, Ecuador, Colombia, Venezuela\n",
        "      countriesshp = pays.filter(ee.Filter.inList('ADM0_CODE',countries))\n",
        "      filterc = ee.Filter.inList('ADM0_CODE',countries)\n",
        "      countriesshp = pays.filter(filterc)\n",
        "      def remove_non_polygons(geometry):\n",
        "        return ee.Algorithms.If(ee.Algorithms.IsEqual(ee.Geometry(geometry).type(),ee.String('Polygon')),ee.Feature(ee.Geometry(geometry)),None)\n",
        "      def clean_polygon_feature(feature):\n",
        "        geometries = feature.geometry().geometries()\n",
        "        geometries_cleaned = ee.FeatureCollection(geometries.map(remove_non_polygons)).union().first()\n",
        "        return ee.Feature(feature).setGeometry(geometries_cleaned.geometry())\n",
        "      return countriesshp.map(clean_polygon_feature)\n",
        "\n",
        "    countries_shp = country(pays)\n",
        "\n",
        "    def ToImage(countries_shp):\n",
        "      toImage=countries_shp.reduceToImage(['ADM0_CODE'], 'first')#Convert to Image (needs numering or int input)\n",
        "      return toImage\n",
        "\n",
        "    wc_mosaic = worldcover(roi, wc)\n",
        "    toImage_result = ToImage(countries_shp)\n",
        "    burnedArea = BurnedArea(firecci51, roi, elev_mosaic)\n",
        "\n",
        "    def summary(wc_mosaic,dem,roi,toImage_result,burnedArea):\n",
        "      def selec_prop(image):\n",
        "        wc_prop = wc_mosaic.select('Map')\n",
        "        elev_prop = dem.clip(roi).select('elevation')\n",
        "        country = toImage_result.select('first').rename('country')\n",
        "        return image.addBands(wc_prop).addBands(elev_prop).addBands(country)\n",
        "      sum_ba=burnedArea.map(selec_prop)\n",
        "      return sum_ba\n",
        "\n",
        "    sum_ba=summary(wc_mosaic,dem,roi,toImage_result,burnedArea)\n",
        "\n",
        "    def GetProjection(burnedArea):\n",
        "      projec = ee.Image(burnedArea.select(0).first()).projection().nominalScale()\n",
        "      return projec\n",
        "\n",
        "    projec_ba=GetProjection(burnedArea)\n",
        "\n",
        "    def Extract_Burned_Areas(projec):\n",
        "      def trf_to_fc(image):\n",
        "        image = image.reduceToVectors(\n",
        "                  reducer=ee.Reducer.first(),\n",
        "                  scale=projec_ba,\n",
        "                  maxPixels=1e10)\n",
        "        return ee.FeatureCollection(image)\n",
        "\n",
        "      sum_flatten = sum_ba.map(trf_to_fc).flatten()\n",
        "      return sum_flatten\n",
        "    Extract_BA=Extract_Burned_Areas(GetProjection(sum_ba))\n",
        "    return Extract_BA\n",
        "\n",
        "  except Exception as e:\n",
        "    print(f\"An error occurred: {e}\")\n",
        "\n",
        "FireCCI_BA=BurnedAreasFireCCI(datasets['andes'],datasets['dem'],datasets['WorldCoverESA'],datasets['FireCCI51'],datasets['countries'],datasets['startDate'],datasets['endDate'])\n",
        "print(\"Processus terminée\")"
      ],
      "metadata": {
        "colab": {
          "base_uri": "https://localhost:8080/",
          "height": 34
        },
        "id": "a1eo9bWawH4_",
        "outputId": "1d1afc00-b1b6-4df2-fe4b-f6564edd7d91"
      },
      "execution_count": null,
      "outputs": [
        {
          "output_type": "display_data",
          "data": {
            "text/plain": [
              "<IPython.core.display.HTML object>"
            ],
            "text/html": [
              "\n",
              "            <style>\n",
              "                .geemap-dark {\n",
              "                    --jp-widgets-color: white;\n",
              "                    --jp-widgets-label-color: white;\n",
              "                    --jp-ui-font-color1: white;\n",
              "                    --jp-layout-color2: #454545;\n",
              "                    background-color: #383838;\n",
              "                }\n",
              "\n",
              "                .geemap-dark .jupyter-button {\n",
              "                    --jp-layout-color3: #383838;\n",
              "                }\n",
              "\n",
              "                .geemap-colab {\n",
              "                    background-color: var(--colab-primary-surface-color, white);\n",
              "                }\n",
              "\n",
              "                .geemap-colab .jupyter-button {\n",
              "                    --jp-layout-color3: var(--colab-primary-surface-color, white);\n",
              "                }\n",
              "            </style>\n",
              "            "
            ]
          },
          "metadata": {}
        },
        {
          "output_type": "stream",
          "name": "stdout",
          "text": [
            "Processus terminée Filtration Donnes CSV et SHP\n"
          ]
        }
      ]
    },
    {
      "cell_type": "markdown",
      "source": [
        "## *2.  Download Burned Areas CSV*"
      ],
      "metadata": {
        "id": "ZOSAuA0W-5kx"
      }
    },
    {
      "cell_type": "code",
      "source": [
        "task = ee.batch.Export.table.toDrive(\n",
        "    collection=FireCCI_BA,\n",
        "    description=f'FireCCI_BA_Country_{startDate}_{endDate}',\n",
        "    folder='Inter_data_FireCCI',\n",
        "    fileFormat='CSV')\n",
        "task.start()\n",
        "print(f\"Execution entre: {startDate}_{endDate}\")"
      ],
      "metadata": {
        "colab": {
          "base_uri": "https://localhost:8080/",
          "height": 34
        },
        "id": "MvHHq3OVMZL2",
        "outputId": "f4210db2-9c61-48e2-a5f3-12758ed9f7f8"
      },
      "execution_count": null,
      "outputs": [
        {
          "output_type": "display_data",
          "data": {
            "text/plain": [
              "<IPython.core.display.HTML object>"
            ],
            "text/html": [
              "\n",
              "            <style>\n",
              "                .geemap-dark {\n",
              "                    --jp-widgets-color: white;\n",
              "                    --jp-widgets-label-color: white;\n",
              "                    --jp-ui-font-color1: white;\n",
              "                    --jp-layout-color2: #454545;\n",
              "                    background-color: #383838;\n",
              "                }\n",
              "\n",
              "                .geemap-dark .jupyter-button {\n",
              "                    --jp-layout-color3: #383838;\n",
              "                }\n",
              "\n",
              "                .geemap-colab {\n",
              "                    background-color: var(--colab-primary-surface-color, white);\n",
              "                }\n",
              "\n",
              "                .geemap-colab .jupyter-button {\n",
              "                    --jp-layout-color3: var(--colab-primary-surface-color, white);\n",
              "                }\n",
              "            </style>\n",
              "            "
            ]
          },
          "metadata": {}
        },
        {
          "output_type": "stream",
          "name": "stdout",
          "text": [
            "Execution entre: 2012-01-01_2024-01-01\n"
          ]
        }
      ]
    },
    {
      "cell_type": "markdown",
      "source": [
        "## *3. Download Burned Areas SHP*"
      ],
      "metadata": {
        "id": "1MSv0Cnl-8pG"
      }
    },
    {
      "cell_type": "code",
      "source": [
        "startDate = datasets['startDate']\n",
        "endDate = datasets['endDate']\n",
        "task = ee.batch.Export.table.toDrive(\n",
        "    collection=FireCCI_BA,\n",
        "    description=f'FireCCI_BA_Country_{startDate}_{endDate}',\n",
        "    folder='Inter_data_FireCCI',\n",
        "    fileFormat='SHP')\n",
        "task.start()\n",
        "print(f\"Execution entre: {startDate}_{endDate}\")"
      ],
      "metadata": {
        "colab": {
          "base_uri": "https://localhost:8080/",
          "height": 34
        },
        "id": "cYjw-kqXPDpG",
        "outputId": "6e041505-03d2-4a90-ca1d-8068376a41da"
      },
      "execution_count": null,
      "outputs": [
        {
          "output_type": "display_data",
          "data": {
            "text/plain": [
              "<IPython.core.display.HTML object>"
            ],
            "text/html": [
              "\n",
              "            <style>\n",
              "                .geemap-dark {\n",
              "                    --jp-widgets-color: white;\n",
              "                    --jp-widgets-label-color: white;\n",
              "                    --jp-ui-font-color1: white;\n",
              "                    --jp-layout-color2: #454545;\n",
              "                    background-color: #383838;\n",
              "                }\n",
              "\n",
              "                .geemap-dark .jupyter-button {\n",
              "                    --jp-layout-color3: #383838;\n",
              "                }\n",
              "\n",
              "                .geemap-colab {\n",
              "                    background-color: var(--colab-primary-surface-color, white);\n",
              "                }\n",
              "\n",
              "                .geemap-colab .jupyter-button {\n",
              "                    --jp-layout-color3: var(--colab-primary-surface-color, white);\n",
              "                }\n",
              "            </style>\n",
              "            "
            ]
          },
          "metadata": {}
        },
        {
          "output_type": "stream",
          "name": "stdout",
          "text": [
            "Execution entre: 2012-01-01_2024-01-01\n"
          ]
        }
      ]
    },
    {
      "cell_type": "markdown",
      "source": [
        "## *4. Data Filtering MCD64A1*"
      ],
      "metadata": {
        "id": "NI_r4lZ9Cvi3"
      }
    },
    {
      "cell_type": "code",
      "source": [
        "# -*- coding: utf-8 -*-\n",
        "\"\"\"\n",
        "Modified on 22/10/2024 19:25:24\n",
        "Version 2.0.0\n",
        "@author: jvilla\n",
        "\"\"\"\n",
        "def filt_concat(dir_csv,dir_shp):\n",
        "  \"\"\"\n",
        "  This function filter collection for country, elevation, climate zone and soil type\n",
        "\n",
        "  Parameters:\n",
        "  ---------------------\n",
        "  dir_csv: str\n",
        "    Path to the CSV file to filter.\n",
        "  dir_shp: str\n",
        "    Path to the SHP file to filter.\n",
        "\n",
        "  Returns:\n",
        "  ---------------------\n",
        "  gdft_concat: gpd.GeoDataFrame\n",
        "    Filtered and concatenated GeoDataFrame.\n",
        "  \"\"\"\n",
        "\n",
        "  try:\n",
        "    dtf=pd.read_csv(dir_csv)\n",
        "    gdft=gpd.read_file(dir_shp)\n",
        "    gdft_concat = gpd.GeoDataFrame(pd.concat([dtf, gdft],axis=1),crs=gdft.crs)\n",
        "    gdft_concat=gdft_concat.iloc[:,[0,1,2,3,4,5,6,7,15]]\n",
        "    gdft_concat=gdft_concat.dropna(subset=['country'])\n",
        "    gdft_concat=gdft_concat[gdft_concat['elevation'] >= 2000]\n",
        "    gdft_concat=gdft_concat.to_crs(3857)\n",
        "    conditionlist = [\n",
        "      (gdft_concat[\"country\"] == 195),#Peru\n",
        "      (gdft_concat[\"country\"] == 51),#Chile\n",
        "      (gdft_concat[\"country\"] == 12),#Argentina\n",
        "      (gdft_concat[\"country\"] == 33),#Bolivia\n",
        "      (gdft_concat[\"country\"] == 73),#Ecuador\n",
        "      (gdft_concat[\"country\"] == 57),#Colombia\n",
        "      (gdft_concat[\"country\"] == 263)#Venezuela\n",
        "      ]\n",
        "    choicelist = [\"Peru\",\"Chile\",\"Argentina\",\"Bolivia\",\"Ecuador\",\"Colombia\",\"Venezuela\"]\n",
        "    gdft_concat[\"Pays\"] = np.select(conditionlist, choicelist, default=\"Not Specified\")\n",
        "    gdft_concat[\"latitude\"]=gdft_concat.centroid.y\n",
        "    conditionlist = [\n",
        "      (gdft_concat[\"latitude\"] >= -557305.2572745768),#-557305.2572745768 equivalent a -5 en pseduMercator\n",
        "      (gdft_concat[\"latitude\"] >= -893463.751012646) & (gdft_concat[\"latitude\"] < -557305.2572745768),#-893463.751012646 equivalent a -8 en pseduMercator\n",
        "      (gdft_concat[\"latitude\"] <= -893463.751012646)]\n",
        "    choicelist = [\"Zone_Equatorial\", \"Transition_Zone\", \"South_Zone\"]\n",
        "    gdft_concat[\"Zone_Clima\"] = np.select(conditionlist, choicelist, default=\"Not Specified\")\n",
        "    gdft_concat=gdft_concat[gdft_concat['Map'] <= 40]\n",
        "    gdft_concat['Map']=gdft_concat['Map'].replace([10, 20, 30, 40], [\"Tree cover\", \"Shrubland\", \"Grassland\", \"Cropland\"])\n",
        "    gdft_concat[\"year\"]=\"\"\n",
        "    gdft_concat[\"month\"]=\"\"\n",
        "    for i in tqdm(range(0,gdft_concat.shape[0])):\n",
        "      gdft_concat[\"year\"].iloc[i]=gdft_concat['system:index'].iloc[i][0:4]\n",
        "      gdft_concat[\"month\"].iloc[i]=gdft_concat['system:index'].iloc[i][5:7]\n",
        "    gdft_concat=gdft_concat[gdft_concat['ConfidenceLevel'] >= 80]\n",
        "    gdft_concat=gdft_concat.iloc[:,[2,3,6,7,9,11,12,13,8]]#column pays???\n",
        "    gdft_concat.columns=['lc_100m','wc_10m','Elevation(m)','BurnDate(doy)','Pays','Zone_Climatique','Annee','Mois','geometry']\n",
        "    return gdft_concat\n",
        "\n",
        "  except Exception as e:\n",
        "    print(f\"An error occurred: {e}\")\n",
        "\n",
        "#FireCCI PARTIE 1 -> 2000-2012\n",
        "FireCCI_BA_part1=filt_concat(datasets['dir1_csv'],datasets['dir1_shp']).to_file('/content/drive/MyDrive/PFE_CIRAD_AMAP/3_FIRECCI/Outputs_FireCCI/FireCCI_BA_join_2000_2012.shp')\n",
        "\n",
        "#FireCCI PARTIE 2 -> 2012-2024\n",
        "FireCCI_BA_part2=filt_concat(datasets['dir2_csv'],datasets['dir2_shp']).to_file('/content/drive/MyDrive/PFE_CIRAD_AMAP/3_FIRECCI/Outputs_FireCCI/FireCCI_BA_join_2012_2024.shp')\n",
        "\n",
        "print(\"Processus terminée Filtration Donnees CSV et SHP\")"
      ],
      "metadata": {
        "id": "WnsMc2cYFUjd"
      },
      "execution_count": null,
      "outputs": []
    },
    {
      "cell_type": "markdown",
      "source": [
        "## *5. Merge Datasets*"
      ],
      "metadata": {
        "id": "9iTJ5tZa0qJp"
      }
    },
    {
      "cell_type": "code",
      "source": [
        "FireCCI_part1=gpd.read_file('/content/drive/MyDrive/PFE_CIRAD_AMAP/3_FIRECCI/Outputs_FireCCI/FireCCI_BA_join_2000_2012.shp')\n",
        "FireCCI_part2=gpd.read_file('/content/drive/MyDrive/PFE_CIRAD_AMAP/3_FIRECCI/Outputs_FireCCI/FireCCI_BA_join_2012_2024.shp')\n",
        "gdft_concat = gpd.GeoDataFrame(pd.concat([FireCCI_part1,FireCCI_part2],axis=0),crs=FireCCI_part1.crs).to_file('/content/drive/MyDrive/PFE_CIRAD_AMAP/3_FIRECCI/Outputs_FireCCI/FireCCI_BA_join_all.shp')"
      ],
      "metadata": {
        "id": "m2VvO4Vz0xm-"
      },
      "execution_count": null,
      "outputs": []
    },
    {
      "cell_type": "markdown",
      "source": [
        "## *6. Calculate Area*"
      ],
      "metadata": {
        "id": "649gRAGgNxFJ"
      }
    },
    {
      "cell_type": "code",
      "source": [
        "gdf = gpd.read_file('/content/drive/MyDrive/PFE_CIRAD_AMAP/3_FIRECCI/Outputs_FireCCI/FireCCI_BA_join_all.shp')\n",
        "gdf[\"Area(hec)\"]=(gdf.area)/10000\n",
        "gdtf=gdf.iloc[:,[0,1,2,3,4,5,6,7,9,8]]\n",
        "gdtf.to_csv('/content/drive/MyDrive/PFE_CIRAD_AMAP/3_FIRECCI/Outputs_FireCCI/FireCCI_BA_join_all.csv',index=False)"
      ],
      "metadata": {
        "id": "DpFVzz2eysAt"
      },
      "execution_count": null,
      "outputs": []
    }
  ]
}