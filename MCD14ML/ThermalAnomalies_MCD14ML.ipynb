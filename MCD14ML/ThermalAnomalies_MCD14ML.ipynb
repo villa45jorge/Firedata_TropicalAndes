{
  "nbformat": 4,
  "nbformat_minor": 0,
  "metadata": {
    "colab": {
      "provenance": []
    },
    "kernelspec": {
      "name": "python3",
      "display_name": "Python 3"
    },
    "language_info": {
      "name": "python"
    },
    "widgets": {
      "application/vnd.jupyter.widget-state+json": {
        "829ac6eb3db84f2e89115e7886dc9ba6": {
          "model_module": "@jupyter-widgets/controls",
          "model_name": "HBoxModel",
          "model_module_version": "1.5.0",
          "state": {
            "_dom_classes": [],
            "_model_module": "@jupyter-widgets/controls",
            "_model_module_version": "1.5.0",
            "_model_name": "HBoxModel",
            "_view_count": null,
            "_view_module": "@jupyter-widgets/controls",
            "_view_module_version": "1.5.0",
            "_view_name": "HBoxView",
            "box_style": "",
            "children": [
              "IPY_MODEL_6df752da90c44a8ab8b0c3f36b7402a1",
              "IPY_MODEL_fcb726b8edff4082a71e9b91347cd4ba",
              "IPY_MODEL_0c84e2d44d634077bcd409c06012d0e8"
            ],
            "layout": "IPY_MODEL_fa6c05df4c104a138e409c913e879fd0"
          }
        },
        "6df752da90c44a8ab8b0c3f36b7402a1": {
          "model_module": "@jupyter-widgets/controls",
          "model_name": "HTMLModel",
          "model_module_version": "1.5.0",
          "state": {
            "_dom_classes": [],
            "_model_module": "@jupyter-widgets/controls",
            "_model_module_version": "1.5.0",
            "_model_name": "HTMLModel",
            "_view_count": null,
            "_view_module": "@jupyter-widgets/controls",
            "_view_module_version": "1.5.0",
            "_view_name": "HTMLView",
            "description": "",
            "description_tooltip": null,
            "layout": "IPY_MODEL_95a8da646a554ea6b305e99eb858f342",
            "placeholder": "​",
            "style": "IPY_MODEL_949a8ebd476a4e16aa8bddf5459cf25b",
            "value": "100%"
          }
        },
        "fcb726b8edff4082a71e9b91347cd4ba": {
          "model_module": "@jupyter-widgets/controls",
          "model_name": "FloatProgressModel",
          "model_module_version": "1.5.0",
          "state": {
            "_dom_classes": [],
            "_model_module": "@jupyter-widgets/controls",
            "_model_module_version": "1.5.0",
            "_model_name": "FloatProgressModel",
            "_view_count": null,
            "_view_module": "@jupyter-widgets/controls",
            "_view_module_version": "1.5.0",
            "_view_name": "ProgressView",
            "bar_style": "success",
            "description": "",
            "description_tooltip": null,
            "layout": "IPY_MODEL_dce150cef1a043f9a0f01e175f6fce0e",
            "max": 4,
            "min": 0,
            "orientation": "horizontal",
            "style": "IPY_MODEL_31930441fecb424d9b5ff182bed5472a",
            "value": 4
          }
        },
        "0c84e2d44d634077bcd409c06012d0e8": {
          "model_module": "@jupyter-widgets/controls",
          "model_name": "HTMLModel",
          "model_module_version": "1.5.0",
          "state": {
            "_dom_classes": [],
            "_model_module": "@jupyter-widgets/controls",
            "_model_module_version": "1.5.0",
            "_model_name": "HTMLModel",
            "_view_count": null,
            "_view_module": "@jupyter-widgets/controls",
            "_view_module_version": "1.5.0",
            "_view_name": "HTMLView",
            "description": "",
            "description_tooltip": null,
            "layout": "IPY_MODEL_50ea0736847a44c8a50df298ebc3faed",
            "placeholder": "​",
            "style": "IPY_MODEL_1bd14841b0dd47d5afa5122dbb9689ab",
            "value": " 4/4 [02:21&lt;00:00, 36.78s/it]"
          }
        },
        "fa6c05df4c104a138e409c913e879fd0": {
          "model_module": "@jupyter-widgets/base",
          "model_name": "LayoutModel",
          "model_module_version": "1.2.0",
          "state": {
            "_model_module": "@jupyter-widgets/base",
            "_model_module_version": "1.2.0",
            "_model_name": "LayoutModel",
            "_view_count": null,
            "_view_module": "@jupyter-widgets/base",
            "_view_module_version": "1.2.0",
            "_view_name": "LayoutView",
            "align_content": null,
            "align_items": null,
            "align_self": null,
            "border": null,
            "bottom": null,
            "display": null,
            "flex": null,
            "flex_flow": null,
            "grid_area": null,
            "grid_auto_columns": null,
            "grid_auto_flow": null,
            "grid_auto_rows": null,
            "grid_column": null,
            "grid_gap": null,
            "grid_row": null,
            "grid_template_areas": null,
            "grid_template_columns": null,
            "grid_template_rows": null,
            "height": null,
            "justify_content": null,
            "justify_items": null,
            "left": null,
            "margin": null,
            "max_height": null,
            "max_width": null,
            "min_height": null,
            "min_width": null,
            "object_fit": null,
            "object_position": null,
            "order": null,
            "overflow": null,
            "overflow_x": null,
            "overflow_y": null,
            "padding": null,
            "right": null,
            "top": null,
            "visibility": null,
            "width": null
          }
        },
        "95a8da646a554ea6b305e99eb858f342": {
          "model_module": "@jupyter-widgets/base",
          "model_name": "LayoutModel",
          "model_module_version": "1.2.0",
          "state": {
            "_model_module": "@jupyter-widgets/base",
            "_model_module_version": "1.2.0",
            "_model_name": "LayoutModel",
            "_view_count": null,
            "_view_module": "@jupyter-widgets/base",
            "_view_module_version": "1.2.0",
            "_view_name": "LayoutView",
            "align_content": null,
            "align_items": null,
            "align_self": null,
            "border": null,
            "bottom": null,
            "display": null,
            "flex": null,
            "flex_flow": null,
            "grid_area": null,
            "grid_auto_columns": null,
            "grid_auto_flow": null,
            "grid_auto_rows": null,
            "grid_column": null,
            "grid_gap": null,
            "grid_row": null,
            "grid_template_areas": null,
            "grid_template_columns": null,
            "grid_template_rows": null,
            "height": null,
            "justify_content": null,
            "justify_items": null,
            "left": null,
            "margin": null,
            "max_height": null,
            "max_width": null,
            "min_height": null,
            "min_width": null,
            "object_fit": null,
            "object_position": null,
            "order": null,
            "overflow": null,
            "overflow_x": null,
            "overflow_y": null,
            "padding": null,
            "right": null,
            "top": null,
            "visibility": null,
            "width": null
          }
        },
        "949a8ebd476a4e16aa8bddf5459cf25b": {
          "model_module": "@jupyter-widgets/controls",
          "model_name": "DescriptionStyleModel",
          "model_module_version": "1.5.0",
          "state": {
            "_model_module": "@jupyter-widgets/controls",
            "_model_module_version": "1.5.0",
            "_model_name": "DescriptionStyleModel",
            "_view_count": null,
            "_view_module": "@jupyter-widgets/base",
            "_view_module_version": "1.2.0",
            "_view_name": "StyleView",
            "description_width": ""
          }
        },
        "dce150cef1a043f9a0f01e175f6fce0e": {
          "model_module": "@jupyter-widgets/base",
          "model_name": "LayoutModel",
          "model_module_version": "1.2.0",
          "state": {
            "_model_module": "@jupyter-widgets/base",
            "_model_module_version": "1.2.0",
            "_model_name": "LayoutModel",
            "_view_count": null,
            "_view_module": "@jupyter-widgets/base",
            "_view_module_version": "1.2.0",
            "_view_name": "LayoutView",
            "align_content": null,
            "align_items": null,
            "align_self": null,
            "border": null,
            "bottom": null,
            "display": null,
            "flex": null,
            "flex_flow": null,
            "grid_area": null,
            "grid_auto_columns": null,
            "grid_auto_flow": null,
            "grid_auto_rows": null,
            "grid_column": null,
            "grid_gap": null,
            "grid_row": null,
            "grid_template_areas": null,
            "grid_template_columns": null,
            "grid_template_rows": null,
            "height": null,
            "justify_content": null,
            "justify_items": null,
            "left": null,
            "margin": null,
            "max_height": null,
            "max_width": null,
            "min_height": null,
            "min_width": null,
            "object_fit": null,
            "object_position": null,
            "order": null,
            "overflow": null,
            "overflow_x": null,
            "overflow_y": null,
            "padding": null,
            "right": null,
            "top": null,
            "visibility": null,
            "width": null
          }
        },
        "31930441fecb424d9b5ff182bed5472a": {
          "model_module": "@jupyter-widgets/controls",
          "model_name": "ProgressStyleModel",
          "model_module_version": "1.5.0",
          "state": {
            "_model_module": "@jupyter-widgets/controls",
            "_model_module_version": "1.5.0",
            "_model_name": "ProgressStyleModel",
            "_view_count": null,
            "_view_module": "@jupyter-widgets/base",
            "_view_module_version": "1.2.0",
            "_view_name": "StyleView",
            "bar_color": null,
            "description_width": ""
          }
        },
        "50ea0736847a44c8a50df298ebc3faed": {
          "model_module": "@jupyter-widgets/base",
          "model_name": "LayoutModel",
          "model_module_version": "1.2.0",
          "state": {
            "_model_module": "@jupyter-widgets/base",
            "_model_module_version": "1.2.0",
            "_model_name": "LayoutModel",
            "_view_count": null,
            "_view_module": "@jupyter-widgets/base",
            "_view_module_version": "1.2.0",
            "_view_name": "LayoutView",
            "align_content": null,
            "align_items": null,
            "align_self": null,
            "border": null,
            "bottom": null,
            "display": null,
            "flex": null,
            "flex_flow": null,
            "grid_area": null,
            "grid_auto_columns": null,
            "grid_auto_flow": null,
            "grid_auto_rows": null,
            "grid_column": null,
            "grid_gap": null,
            "grid_row": null,
            "grid_template_areas": null,
            "grid_template_columns": null,
            "grid_template_rows": null,
            "height": null,
            "justify_content": null,
            "justify_items": null,
            "left": null,
            "margin": null,
            "max_height": null,
            "max_width": null,
            "min_height": null,
            "min_width": null,
            "object_fit": null,
            "object_position": null,
            "order": null,
            "overflow": null,
            "overflow_x": null,
            "overflow_y": null,
            "padding": null,
            "right": null,
            "top": null,
            "visibility": null,
            "width": null
          }
        },
        "1bd14841b0dd47d5afa5122dbb9689ab": {
          "model_module": "@jupyter-widgets/controls",
          "model_name": "DescriptionStyleModel",
          "model_module_version": "1.5.0",
          "state": {
            "_model_module": "@jupyter-widgets/controls",
            "_model_module_version": "1.5.0",
            "_model_name": "DescriptionStyleModel",
            "_view_count": null,
            "_view_module": "@jupyter-widgets/base",
            "_view_module_version": "1.2.0",
            "_view_name": "StyleView",
            "description_width": ""
          }
        }
      }
    }
  },
  "cells": [
    {
      "cell_type": "markdown",
      "source": [
        "# TEMPORAL ANOMALIES FOR ANDES FIRES PIPELINE\n",
        "\n",
        "*   Import Libraries -> Check disponibilities of the libraries\n",
        "*   Import Datasets -> Take dataset from GEE Catalog\n",
        "*   Final Code\n",
        "  1. Preprocesing MCD14ML CSV -> formatting of files directly downloaded from the NASA FIRMS server.\n",
        "  2. Load SHAPEFILE like a dataset in GEE -> Necessary to access files via GEE.\n",
        "  3. Preprocessing MCD14ML GEE -> We extract ground cover type and elevation information through the locations of the actives fires.\n",
        "  4. Surfaces Extraction WorldCover in GEE -> we calculate the total area of land cover in our study area.\n",
        "  5. Data Filtering Pre-Qgis -> we narrow down the data by selecting only the land cover types of interest.\n",
        "  6. Use of ST-DBSCAN Cluster Spatio-Temporal in Qgis -> use the ST-DBSCAN spatio-temporal clustering algorithm in Qgis to cluster fires presumed to belong to the same source.\n",
        "  7. Data Filtering Post-Qgis -> Cleaning of the data after using the ST-DBSCAB algorithm, keeping only the first elements of each cluster, assuming these as the respective origins.\n",
        "  8. Soil Surface -> Calculation of the total areas associated with each detected active fire"
      ],
      "metadata": {
        "id": "hH0Wij7zpog7"
      }
    },
    {
      "cell_type": "markdown",
      "source": [
        "# **Import Libraries**"
      ],
      "metadata": {
        "id": "1gWlsEMrpLL9"
      }
    },
    {
      "cell_type": "code",
      "execution_count": null,
      "metadata": {
        "id": "3jJZOf6CCpD0",
        "colab": {
          "base_uri": "https://localhost:8080/",
          "height": 17
        },
        "outputId": "b6a2f684-9fef-4cca-9e86-18195b2b60d1"
      },
      "outputs": [
        {
          "output_type": "display_data",
          "data": {
            "text/plain": [
              "<IPython.core.display.HTML object>"
            ],
            "text/html": [
              "\n",
              "            <style>\n",
              "                .geemap-dark {\n",
              "                    --jp-widgets-color: white;\n",
              "                    --jp-widgets-label-color: white;\n",
              "                    --jp-ui-font-color1: white;\n",
              "                    --jp-layout-color2: #454545;\n",
              "                    background-color: #383838;\n",
              "                }\n",
              "\n",
              "                .geemap-dark .jupyter-button {\n",
              "                    --jp-layout-color3: #383838;\n",
              "                }\n",
              "\n",
              "                .geemap-colab {\n",
              "                    background-color: var(--colab-primary-surface-color, white);\n",
              "                }\n",
              "\n",
              "                .geemap-colab .jupyter-button {\n",
              "                    --jp-layout-color3: var(--colab-primary-surface-color, white);\n",
              "                }\n",
              "            </style>\n",
              "            "
            ]
          },
          "metadata": {}
        }
      ],
      "source": [
        "import os\n",
        "from pathlib import Path\n",
        "import glob\n",
        "import pandas as pd\n",
        "import numpy as np\n",
        "import geopandas as gpd\n",
        "from shapely.geometry import Point\n",
        "from tqdm.notebook import tqdm\n",
        "import ee\n",
        "import geemap\n",
        "from datetime import datetime\n",
        "\n",
        "#Compte Earth Engine\n",
        "ee.Authenticate()\n",
        "ee.Initialize(project='ee-villa45ramos')\n"
      ]
    },
    {
      "cell_type": "markdown",
      "source": [
        "# **Import Dataset**"
      ],
      "metadata": {
        "id": "dXdKPgGxIteW"
      }
    },
    {
      "cell_type": "code",
      "source": [
        "datasets= {'AndesTropi':ee.FeatureCollection(\"projects/ee-villa45ramos/assets/AndesTropi2\"),\n",
        "           'dem30m': ee.Image(\"USGS/SRTMGL1_003\"),\n",
        "           'WorldCoverESA':ee.ImageCollection('ESA/WorldCover/v100'),\n",
        "           'datacountries':ee.FeatureCollection(\"FAO/GAUL_SIMPLIFIED_500m/2015/level0\"),\n",
        "           'andes':ee.Geometry.BBox( -84.0, -30.0, -62.0, 12.0).buffer(1000)\n",
        "}"
      ],
      "metadata": {
        "colab": {
          "base_uri": "https://localhost:8080/",
          "height": 17
        },
        "id": "mBSL6j8HD0-e",
        "outputId": "361fb9b0-1a91-4bca-baa5-6f9b3bd8eea8"
      },
      "execution_count": null,
      "outputs": [
        {
          "output_type": "display_data",
          "data": {
            "text/plain": [
              "<IPython.core.display.HTML object>"
            ],
            "text/html": [
              "\n",
              "            <style>\n",
              "                .geemap-dark {\n",
              "                    --jp-widgets-color: white;\n",
              "                    --jp-widgets-label-color: white;\n",
              "                    --jp-ui-font-color1: white;\n",
              "                    --jp-layout-color2: #454545;\n",
              "                    background-color: #383838;\n",
              "                }\n",
              "\n",
              "                .geemap-dark .jupyter-button {\n",
              "                    --jp-layout-color3: #383838;\n",
              "                }\n",
              "\n",
              "                .geemap-colab {\n",
              "                    background-color: var(--colab-primary-surface-color, white);\n",
              "                }\n",
              "\n",
              "                .geemap-colab .jupyter-button {\n",
              "                    --jp-layout-color3: var(--colab-primary-surface-color, white);\n",
              "                }\n",
              "            </style>\n",
              "            "
            ]
          },
          "metadata": {}
        }
      ]
    },
    {
      "cell_type": "markdown",
      "source": [
        "# **Final Code**"
      ],
      "metadata": {
        "id": "0arZFntfNfVh"
      }
    },
    {
      "cell_type": "markdown",
      "source": [
        "## *1. Preprocessing MCD14ML CSV Format*"
      ],
      "metadata": {
        "id": "3vig8ij5taGu"
      }
    },
    {
      "cell_type": "code",
      "source": [
        "# -*- coding: utf-8 -*-\n",
        "\"\"\"\n",
        "Modified on 16/07/2024 14:38:22\n",
        "Version 4.1.0\n",
        "@author: jvilla\n",
        "\"\"\"\n",
        "def merge_csv(files_pattern,output_name):\n",
        "  \"\"\"\n",
        "  This function takes a list of files and merge in only one CSV.\n",
        "\n",
        "  Parameters:\n",
        "  -------------\n",
        "  files_pattern: str\n",
        "    Glob pattern to match files to merge.\n",
        "  output_name: str\n",
        "    Name of the output CSV file.\n",
        "\n",
        "  Returns:\n",
        "  -------------\n",
        "  all_csv: pd.DataFrame\n",
        "    Merged DataFrame.\n",
        "  \"\"\"\n",
        "  try:\n",
        "    # Get a list of files matching the glob pattern\n",
        "    list_files = glob.glob(files_pattern)\n",
        "\n",
        "    # Read each CSV file into a DataFrame and concatenate them\n",
        "    all_csv = pd.concat(map(pd.read_csv, list_files), ignore_index=True)\n",
        "\n",
        "    # Save the merged DataFrame to a CSV file\n",
        "    all_csv.to_csv(output_name, index=False, encoding='utf-8-sig')\n",
        "\n",
        "    return all_csv\n",
        "  except Exception as e:\n",
        "    print(f\"An error occurred: {e}\")\n",
        "\n",
        "def filt_csv(file_path):\n",
        "  \"\"\"\n",
        "  This function takes a CSV file and filter by confidence (>80% High Level Confidence), type of thermal anomalie detected\n",
        "  (0 = presumed vegetation fire, 2 =other static land source), select only the columns needed, add a new column with the name of the country,\n",
        "  and add a new column with the name of the climate zone.\n",
        "\n",
        "  Parameters:\n",
        "  -------------\n",
        "  file_path: str\n",
        "      Path to the CSV file to filter.\n",
        "\n",
        "  Returns:\n",
        "  -------------\n",
        "  filtered_df: pd.DataFrame\n",
        "    Filtered DataFrame.\n",
        "\n",
        "  \"\"\"\n",
        "  try:\n",
        "\n",
        "    #Get the file path\n",
        "    file_name = Path(file_path).stem\n",
        "\n",
        "    #Read the CSV file\n",
        "    df = pd.read_csv(file_path)\n",
        "\n",
        "    #Filter par confidence des anomalies thermiques supérieur à 80%\n",
        "    filtered_df=df[df['confidence'] >= 80]\n",
        "\n",
        "    #Selection des types de anomalies 0:suspected vegetation fire et 2:other static terrestrial source\n",
        "    filtered_df=filtered_df[(filtered_df['type'] == 0) | (filtered_df['type'] == 2)]\n",
        "\n",
        "    #Selection des colonnes d'interet\n",
        "    filtered_df = filtered_df.iloc[:, [0,1,5,6,7,9,11,12]]\n",
        "\n",
        "    #Add country name\n",
        "    filtered_df[\"country\"]=file_name\n",
        "\n",
        "    #Add climate zone\n",
        "    conditionlist = [\n",
        "      (filtered_df[\"latitude\"] >= -5),\n",
        "      (filtered_df[\"latitude\"] >= -8) & (filtered_df[\"latitude\"] < -5),\n",
        "      (filtered_df[\"latitude\"] <= -8),\n",
        "    ]\n",
        "    choicelist = [\"Zone_Equatorial\", \"Transition_Zone\", \"South_Zone\"]\n",
        "    filtered_df[\"Zone_Clima\"] = np.select(conditionlist, choicelist, default=\"Not Specified\") #Add climate zone\n",
        "\n",
        "    return filtered_df\n",
        "\n",
        "  except Exception as e:\n",
        "    print(f\"An error occurred: {e}\")\n",
        "\n",
        "def csv_to_shp(df,output_dir):\n",
        "  \"\"\"\n",
        "  This function takes the coordinates (longitude,latitude) of every point and coverts into a shapefile\n",
        "  with a projection EPSG:4326.\n",
        "\n",
        "  Parameters:\n",
        "  -------------\n",
        "  df: pd.DataFrame\n",
        "    DataFrame with coordinates.\n",
        "  output_dir: str\n",
        "    Directory of the output shapefile.\n",
        "\n",
        "  Returns:\n",
        "  -------------\n",
        "  gdf: gpd.GeoDataFrame\n",
        "    GeoDataFrame with the coordinates converted to a shapefile.\n",
        "\n",
        "  \"\"\"\n",
        "  try:\n",
        "    #Conversion of coordinates into Point objet\n",
        "    df['coordinates'] = df[['longitude', 'latitude']].apply(Point, axis=1)\n",
        "\n",
        "    #Creation de GeoDataframe\n",
        "    gdf = gpd.GeoDataFrame(df, geometry = 'coordinates')\n",
        "\n",
        "    #Set CRS\n",
        "    gdf = gdf.set_crs('EPSG:4326')\n",
        "\n",
        "    #Export to shapefile\n",
        "    gdf = gdf.to_file(output_dir)\n",
        "    return gdf\n",
        "\n",
        "  except Exception as e:\n",
        "    print(f\"An error occurred: {e}\")\n",
        "\n",
        "def fusdatacsv(file_dict):\n",
        "  \"\"\"\n",
        "  This function takes files with the word 'modis*.csv', merge in only one CSV and convert it into a shapefile\n",
        "\n",
        "  Parameters:\n",
        "  -------------\n",
        "  file_dict: dict\n",
        "    Dictionary with input and output paths for CSV and shapefiles.\n",
        "\n",
        "  Returns:\n",
        "  -------------\n",
        "    None\n",
        "  \"\"\"\n",
        "  n=len(file_dict)\n",
        "  for k,i in zip(file_dict.keys(),range(1,len(file_dict)+1)):\n",
        "    merge_csv(os.path.join(file_dict[k][0],'modis*.csv'),file_dict[k][1])\n",
        "    print(f\"Merge csv Terminée étape {i}/7\")\n",
        "    csv_to_shp(file_dict(file_dict[k][1]),file_dict[k][2][:-3]+'shp')\n",
        "    print(f\"CSV to SHP filt Terminée {i}/7\")\n",
        "\n",
        "def mergShape(shapefile_dir, output_shapefile):\n",
        "  \"\"\"\n",
        "  This function takes a list of shapefiles and merge in only one shapefile\n",
        "\n",
        "  Parameters:\n",
        "  -------------\n",
        "  shapefile_dir: str\n",
        "    Directory containing shapefiles to merge.\n",
        "  output_shapefile: str\n",
        "    Path for the output merged shapefile.\n",
        "\n",
        "  Returns:\n",
        "  -------------\n",
        "  AndesTropi : gpd.GeoDataFrame\n",
        "    Merged GeoDataFrame.\n",
        "  \"\"\"\n",
        "  try:\n",
        "    # Get a list of shapefiles in the directory\n",
        "    list_shapes = glob.glob(os.path.join(shapefile_dir,'*.shp'))\n",
        "\n",
        "    # Read each shapefile into a GeoDataFrame and concatenate them\n",
        "    GDF_list= list()\n",
        "    GDF_list = [gpd.read_file(list_shapes[i]) for i in tqdm(range(len(list_shapes)))]\n",
        "\n",
        "    # Merge the GeoDataFrames\n",
        "    AndesTropi = gpd.GeoDataFrame(pd.concat(GDF_list,ignore_index=True), crs=GDF_list[0].crs)\n",
        "\n",
        "    # Save the merged GeoDataFrame to a shapefile\n",
        "    AndesTropi = AndesTropi.to_file(output_shapefile)\n",
        "\n",
        "    return AndesTropi\n",
        "\n",
        "  except Exception as e:\n",
        "    print(f\"An error occurred: {e}\")"
      ],
      "metadata": {
        "colab": {
          "base_uri": "https://localhost:8080/",
          "height": 17
        },
        "id": "UrIauD_Ik4To",
        "outputId": "8994ed31-f18c-47cf-b52a-638cc0fae54e"
      },
      "execution_count": null,
      "outputs": [
        {
          "output_type": "display_data",
          "data": {
            "text/plain": [
              "<IPython.core.display.HTML object>"
            ],
            "text/html": [
              "\n",
              "            <style>\n",
              "                .geemap-dark {\n",
              "                    --jp-widgets-color: white;\n",
              "                    --jp-widgets-label-color: white;\n",
              "                    --jp-ui-font-color1: white;\n",
              "                    --jp-layout-color2: #454545;\n",
              "                    background-color: #383838;\n",
              "                }\n",
              "\n",
              "                .geemap-dark .jupyter-button {\n",
              "                    --jp-layout-color3: #383838;\n",
              "                }\n",
              "\n",
              "                .geemap-colab {\n",
              "                    background-color: var(--colab-primary-surface-color, white);\n",
              "                }\n",
              "\n",
              "                .geemap-colab .jupyter-button {\n",
              "                    --jp-layout-color3: var(--colab-primary-surface-color, white);\n",
              "                }\n",
              "            </style>\n",
              "            "
            ]
          },
          "metadata": {}
        }
      ]
    },
    {
      "cell_type": "code",
      "source": [
        "dir_1='/content/drive/MyDrive/PFE_CIRAD_AMAP/'\n",
        "dir_2='/content/drive/MyDrive/PFE_CIRAD_AMAP/Data_pays/'\n",
        "dir_3='/content/drive/MyDrive/PFE_CIRAD_AMAP/shape_pays/'\n",
        "dir_SHPf='/content/drive/MyDrive/PFE_CIRAD_AMAP/shape_pays/AndesTropiv3.shp'\n",
        "pays=[\"Argentina\",\"Bolivia\",\"Chile\",\"Colombia\",\"Ecuador\",\"Peru\",\"Venezuela\"]\n",
        "datacsv= {f\"csv{i}\": [f'{dir_1}{pays[i]}', f'{dir_2}{pays[i]}.csv',f'{dir_3}{pays[i]}.shp'] for i in range(len(pays))}\n",
        "fusdatacsv(datacsv)\n",
        "mergShape(dir_3,dir_SHPf)\n",
        "print(\"Processus Pretraitement MCD14ML CSV Format Terminée\")"
      ],
      "metadata": {
        "colab": {
          "base_uri": "https://localhost:8080/",
          "height": 17
        },
        "id": "zqfZzvxIm3_q",
        "outputId": "28a80a9d-00de-43b1-cc54-54d4a0b89e80"
      },
      "execution_count": null,
      "outputs": [
        {
          "output_type": "display_data",
          "data": {
            "text/plain": [
              "<IPython.core.display.HTML object>"
            ],
            "text/html": [
              "\n",
              "            <style>\n",
              "                .geemap-dark {\n",
              "                    --jp-widgets-color: white;\n",
              "                    --jp-widgets-label-color: white;\n",
              "                    --jp-ui-font-color1: white;\n",
              "                    --jp-layout-color2: #454545;\n",
              "                    background-color: #383838;\n",
              "                }\n",
              "\n",
              "                .geemap-dark .jupyter-button {\n",
              "                    --jp-layout-color3: #383838;\n",
              "                }\n",
              "\n",
              "                .geemap-colab {\n",
              "                    background-color: var(--colab-primary-surface-color, white);\n",
              "                }\n",
              "\n",
              "                .geemap-colab .jupyter-button {\n",
              "                    --jp-layout-color3: var(--colab-primary-surface-color, white);\n",
              "                }\n",
              "            </style>\n",
              "            "
            ]
          },
          "metadata": {}
        }
      ]
    },
    {
      "cell_type": "markdown",
      "source": [
        "## *2. Load SHAPEFILE like a dataset in GEE*\n",
        "\n",
        "-> *Necessary to continue processes within GEE*\n",
        "\n",
        "\n",
        "\n"
      ],
      "metadata": {
        "id": "FAshl7CQNEH3"
      }
    },
    {
      "cell_type": "markdown",
      "source": [
        "## *3. Preprocessing MCD14ML in GEE*"
      ],
      "metadata": {
        "id": "uZtyS5m8tjHf"
      }
    },
    {
      "cell_type": "code",
      "source": [
        "# -*- coding: utf-8 -*-\n",
        "\"\"\"\n",
        "Modified on 16/07/2024 14:38:50\n",
        "Version 2.2.0\n",
        "@author: jvilla\n",
        "\"\"\"\n",
        "def AnomaliesThermiques(roi,dem,wc,asset):\n",
        "  def get_worldcover(roi,wc):\n",
        "    \"\"\"\n",
        "    This function get the mosaic of WorldCover within the region of interest (roi).\n",
        "\n",
        "    Parameters:\n",
        "    -------------\n",
        "    roi: ee.Geometry\n",
        "      Region of interest (geometry).\n",
        "    wc: ee.ImageCollection\n",
        "      WorldCover image collection.\n",
        "\n",
        "    Returns:\n",
        "    -------------\n",
        "    wc_mosaic: ee.Image\n",
        "      Mosaic of WorldCover within the region of interest.\n",
        "    \"\"\"\n",
        "    #Function to clip image by ROI\n",
        "    def clip_study_area(img):\n",
        "      return img.clip(roi)\n",
        "\n",
        "    #Filter WorldCover image by bound of ROI, then Clip image and convert in one mosaic image\n",
        "    wc_mosaic=wc.filterBounds(roi).map(clip_study_area).mosaic()\n",
        "\n",
        "    return wc_mosaic\n",
        "\n",
        "  def extract_fire_activities(wc_mosaic,dem,roi,asset):\n",
        "    \"\"\"\n",
        "    Extract fire activities from the asset, adding WorldCover and elevation data.\n",
        "\n",
        "    Parameters:\n",
        "    -------------\n",
        "    wc_mosaic: ee.Image\n",
        "      Mosaic of WorldCover within the region of interest.\n",
        "    dem: ee.Image\n",
        "      Elevation data.\n",
        "    roi: ee.Geometry\n",
        "      Region of interest (geometry).\n",
        "    asset: ee.FeatureCollection\n",
        "      MCD14ML asset.\n",
        "\n",
        "    Returns:\n",
        "    -------------\n",
        "    fire_activities: ee.FeatureCollection\n",
        "      Fire activities within the region of interest.\n",
        "    \"\"\"\n",
        "    #Function to format date\n",
        "    def format_date(fc):\n",
        "      return fc.set('ddmmyy', ee.Date(fc.get('acq_date')).format('ddMMyy'))\n",
        "\n",
        "    #Function to add WorldCover and elevation data to feature\n",
        "    def add_cover_elevation(feat):\n",
        "      geom = feat.geometry()\n",
        "\n",
        "      #Use of mode because discrete data in a buffer of 1000m (MODIS resolution)\n",
        "      wcover = wc_mosaic.reduceRegion(\n",
        "          ee.Reducer.mode(), feat.geometry(), 1000).get('Map')\n",
        "\n",
        "      #Use of mean because of continous data of elevation inside the buffer of 1000m (MODIS resolution)\n",
        "      elev30 = dem.clip(roi).reduceRegion(\n",
        "          ee.Reducer.median(), feat.geometry(), 1000).get('elevation')\n",
        "      return ee.Feature(geom).copyProperties(feat).set({\n",
        "          'wc': wcover,\n",
        "          'elev30':elev30\n",
        "      })\n",
        "\n",
        "    #Filter elevation greater than 2000 (definition of Tropical Andes)\n",
        "    filtered_asset  = asset.filterBounds(wc_mosaic.geometry()).map(format_date).map(add_cover_elevation, True).filterMetadata('elev30', \"greater_than\", 2000)\n",
        "    return filtered_asset\n",
        "\n",
        "  wc_mosaic = get_worldcover(roi, wc)\n",
        "  fire_activities = extract_fire_activities(wc_mosaic, dem, roi, asset)\n",
        "  return fire_activities\n",
        "\n",
        "MODWorldCoverv = AnomaliesThermiques(datasets[\"andes\"],datasets[\"dem30m\"],datasets[\"WorldCoverESA\"],ee.FeatureCollection(\"projects/ee-villa45ramos/assets/AndesTropiv3\"))\n",
        "print(\"Processus FireActivity terminée\")"
      ],
      "metadata": {
        "id": "pQ8E1I3AG74w",
        "colab": {
          "base_uri": "https://localhost:8080/",
          "height": 17
        },
        "outputId": "5c5e2fdb-a843-4954-f248-1028dbe8c20d"
      },
      "execution_count": null,
      "outputs": [
        {
          "output_type": "display_data",
          "data": {
            "text/plain": [
              "<IPython.core.display.HTML object>"
            ],
            "text/html": [
              "\n",
              "            <style>\n",
              "                .geemap-dark {\n",
              "                    --jp-widgets-color: white;\n",
              "                    --jp-widgets-label-color: white;\n",
              "                    --jp-ui-font-color1: white;\n",
              "                    --jp-layout-color2: #454545;\n",
              "                    background-color: #383838;\n",
              "                }\n",
              "\n",
              "                .geemap-dark .jupyter-button {\n",
              "                    --jp-layout-color3: #383838;\n",
              "                }\n",
              "\n",
              "                .geemap-colab {\n",
              "                    background-color: var(--colab-primary-surface-color, white);\n",
              "                }\n",
              "\n",
              "                .geemap-colab .jupyter-button {\n",
              "                    --jp-layout-color3: var(--colab-primary-surface-color, white);\n",
              "                }\n",
              "            </style>\n",
              "            "
            ]
          },
          "metadata": {}
        }
      ]
    },
    {
      "cell_type": "code",
      "source": [
        "task = ee.batch.Export.table.toDrive(\n",
        "    collection=MODWorldCoverv,\n",
        "    description='MODWorldCoverv5',\n",
        "    folder='Extra_data',\n",
        "    fileFormat='CSV')\n",
        "\n",
        "task.start()\n",
        "\n",
        "print(\"Processus Pre-traitement MCD14ML in GEE terminée\")"
      ],
      "metadata": {
        "colab": {
          "base_uri": "https://localhost:8080/",
          "height": 34
        },
        "id": "sK-TioLAXDV4",
        "outputId": "c5150d35-55d7-4c5f-96a3-08e1571844f8"
      },
      "execution_count": null,
      "outputs": [
        {
          "output_type": "display_data",
          "data": {
            "text/plain": [
              "<IPython.core.display.HTML object>"
            ],
            "text/html": [
              "\n",
              "            <style>\n",
              "                .geemap-dark {\n",
              "                    --jp-widgets-color: white;\n",
              "                    --jp-widgets-label-color: white;\n",
              "                    --jp-ui-font-color1: white;\n",
              "                    --jp-layout-color2: #454545;\n",
              "                    background-color: #383838;\n",
              "                }\n",
              "\n",
              "                .geemap-dark .jupyter-button {\n",
              "                    --jp-layout-color3: #383838;\n",
              "                }\n",
              "\n",
              "                .geemap-colab {\n",
              "                    background-color: var(--colab-primary-surface-color, white);\n",
              "                }\n",
              "\n",
              "                .geemap-colab .jupyter-button {\n",
              "                    --jp-layout-color3: var(--colab-primary-surface-color, white);\n",
              "                }\n",
              "            </style>\n",
              "            "
            ]
          },
          "metadata": {}
        },
        {
          "output_type": "stream",
          "name": "stdout",
          "text": [
            "Processus Pretraitement MCD14ML in GEE terminée\n"
          ]
        }
      ]
    },
    {
      "cell_type": "markdown",
      "source": [
        "## *4. Surfaces extraction WorldCover in GEE*"
      ],
      "metadata": {
        "id": "zSb4AkvENuji"
      }
    },
    {
      "cell_type": "code",
      "source": [
        "# -*- coding: utf-8 -*-\n",
        "\"\"\"\n",
        "Created on 16/07/2024 14:45:16\n",
        "Version 4.1.0\n",
        "@author: jvilla\n",
        "\"\"\"\n",
        "def Cover_surface(codesoil,pays,cover,dem,AOI):\n",
        "  \"\"\"\n",
        "  This function takes extract the total surface of soil in the region of interest (AOI)\n",
        "\n",
        "  Parameters:\n",
        "  -------------\n",
        "  codesoil: int\n",
        "    Code of soil class.\n",
        "  pays: ee.FeatureCollection\n",
        "    List of countries.\n",
        "  cover: ee.ImageCollection\n",
        "    WorldCover image collection.\n",
        "  dem: ee.Image\n",
        "    DEM Elevation data.\n",
        "  AOI: ee.Geometry\n",
        "    Region of interest (geometry).\n",
        "\n",
        "  Returns:\n",
        "  -------------\n",
        "  Soil_cover: ee.FeatureCollection\n",
        "    Total surface of soil in the region of interest per Soil class.\n",
        "  \"\"\"\n",
        "  #Function to select only countries with presence in the Tropical Andes.\n",
        "  def country(pays):\n",
        "\n",
        "    #Countries codes for-> 195:Peru, 51:Chile, 12:Argentina, 33:Bolivia, 73:Ecuador, 57:Colombia, 263:Venezuela\n",
        "    countries = ee.List([195,51,12,33,73,57,263]);\n",
        "    countriesshp = pays.filter(ee.Filter.inList('ADM0_CODE',countries))\n",
        "    filterc = ee.Filter.inList('ADM0_CODE',countries)\n",
        "    countriesshp = pays.filter(filterc)\n",
        "    def remove_non_polygons(geometry):\n",
        "      return ee.Algorithms.If(ee.Algorithms.IsEqual(ee.Geometry(geometry).type()\n",
        "                            , ee.String('Polygon'))\n",
        "                            , ee.Feature(ee.Geometry(geometry)), None)\n",
        "    def clean_polygon_feature(feature):\n",
        "      geometries = feature.geometry().geometries();\n",
        "      geometries_cleaned = ee.FeatureCollection(geometries.map(remove_non_polygons)).union().first();\n",
        "      return ee.Feature(feature).setGeometry(geometries_cleaned.geometry())\n",
        "    return countriesshp.map(clean_polygon_feature)\n",
        "\n",
        "  #Function to clip WorldCover Raster by ROI and make a mosaic image\n",
        "  def worldcover(cover,AOI):\n",
        "    def clipStudyArea(img):\n",
        "      return img.clip(AOI)\n",
        "    return cover.filterBounds(AOI).map(clipStudyArea).mosaic()\n",
        "\n",
        "  #Function to get the total surface of soil in the region of interest\n",
        "  def mask_soil(dem,AOI,cover,pays):\n",
        "    dem2 = dem.clip(AOI)\n",
        "    elev = dem2.gte(2000)\n",
        "    soil = worldcover(cover,AOI).updateMask(elev)\n",
        "\n",
        "    soilCover  = ee.Image(1).updateMask(soil.select('Map').eq(codesoil))#Grasland #Change of mask to updateMask\n",
        "    area_pxa_soilCover_countries = soilCover.multiply(ee.Image.pixelArea()).reduceRegions(\n",
        "                                                              collection = country(pays),\n",
        "                                                              reducer = ee.Reducer.sum(),\n",
        "                                                              scale = 10)\n",
        "    #Function to convert area to hectares\n",
        "    def getArea(feature):\n",
        "      area = ee.Number(feature.get('sum')).divide(1e6)\n",
        "      return feature.set('area', area)\n",
        "    return area_pxa_soilCover_countries.map(getArea).select('area','ADM0_NAME')\n",
        "  Soil_cover = mask_soil(dem,AOI,cover,pays)\n",
        "  return Soil_cover\n"
      ],
      "metadata": {
        "colab": {
          "base_uri": "https://localhost:8080/",
          "height": 34
        },
        "id": "0fmFZ-XFGVAk",
        "outputId": "f6a8883b-5e07-42f9-cc8c-b2a76a82f5fd"
      },
      "execution_count": null,
      "outputs": [
        {
          "output_type": "display_data",
          "data": {
            "text/plain": [
              "<IPython.core.display.HTML object>"
            ],
            "text/html": [
              "\n",
              "            <style>\n",
              "                .geemap-dark {\n",
              "                    --jp-widgets-color: white;\n",
              "                    --jp-widgets-label-color: white;\n",
              "                    --jp-ui-font-color1: white;\n",
              "                    --jp-layout-color2: #454545;\n",
              "                    background-color: #383838;\n",
              "                }\n",
              "\n",
              "                .geemap-dark .jupyter-button {\n",
              "                    --jp-layout-color3: #383838;\n",
              "                }\n",
              "\n",
              "                .geemap-colab {\n",
              "                    background-color: var(--colab-primary-surface-color, white);\n",
              "                }\n",
              "\n",
              "                .geemap-colab .jupyter-button {\n",
              "                    --jp-layout-color3: var(--colab-primary-surface-color, white);\n",
              "                }\n",
              "            </style>\n",
              "            "
            ]
          },
          "metadata": {}
        },
        {
          "output_type": "stream",
          "name": "stdout",
          "text": [
            "Processus FireActivity terminée\n"
          ]
        }
      ]
    },
    {
      "cell_type": "code",
      "source": [
        "codesoil=40 #Changer code soil-> 10:TreeCover, 20:Shrubland, 30: Grassland, 40 Cropland\n",
        "\n",
        "grid = geemap.fishnet(ee.Geometry.BBox( -84.0, -30.0, -62.0, 12.0).buffer(1000), h_interval=4.5, v_interval=6.1, delta=1)\n",
        "gridSize=grid.size().getInfo();\n",
        "gridList=grid.toList(gridSize);\n",
        "\n",
        "for i in tqdm(range(gridSize)):\n",
        "  AOI = ee.Feature(gridList.get(i)).geometry()\n",
        "  MOD_soil_Area = Cover_surface(codesoil,datasets[\"datacountries\"],datasets[\"WorldCoverESA\"],datasets[\"dem30m\"],datasets[\"andes\"])\n",
        "  task = ee.batch.Export.table.toDrive(\n",
        "    collection=MOD_soil_Area,\n",
        "    description=f'Cropland_Area_part{i}', #Changer name soil-> 10:TreeCover, 20:Shrubland, 30: Grassland, 40 Cropland\n",
        "    folder='Inter_data_ThermalAnomalies',\n",
        "    fileFormat='CSV')\n",
        "  task.start()\n",
        "  print(f\"Execution part: {i}\")\n",
        "print(\"Processus Extraction surfaces WordlCover in GEE terminée\")"
      ],
      "metadata": {
        "id": "tx_P1u_iT5lw"
      },
      "execution_count": null,
      "outputs": []
    },
    {
      "cell_type": "markdown",
      "source": [
        "## *5. Data Filtering Pre-Qgis*"
      ],
      "metadata": {
        "id": "UpQpdq3lS2Kj"
      }
    },
    {
      "cell_type": "code",
      "source": [
        "# -*- coding: utf-8 -*-\n",
        "\"\"\"\n",
        "Created on 11/07/2024 17 17:31:36\n",
        "Version 3.0.0\n",
        "@author: jvilla\n",
        "\"\"\"\n",
        "def filtZonesSeches(dir_csv,dir_out):\n",
        "\t\"\"\"\n",
        "\tThis function takes a CSV file and filters by soil coverage, reduces columns and rename columns/elements.\n",
        "\n",
        "\tParameters:\n",
        "\t-------------\n",
        "\tdir_csv: str\n",
        "\t\tPath to the CSV file to filter.\n",
        "\tdir_out: str\n",
        "\t\tPath to the output CSV file.\n",
        "\n",
        "\tReturns:\n",
        "\t-------------\n",
        "\tdf: pd.DataFrame\n",
        "\t\tFiltered DataFrame.\n",
        "\t\"\"\"\n",
        "\ttry:\n",
        "\t\t# Read the CSV file\n",
        "\t\tdf = pd.read_csv(dir_csv)\n",
        "\n",
        "\t\t# Filter by soil coverage 10:Tree cover, 20:Shrubland, 30:Grassland and 40:Cropland\n",
        "\t\tdf = df[df['wc'] <= 40]\n",
        "\n",
        "\t\t# Reduce columns and rename elements\n",
        "\t\tdf['month'] = pd.DatetimeIndex(df['acq_date']).month\n",
        "\t\tdf['year'] = pd.DatetimeIndex(df['acq_date']).year\n",
        "\t\tnew_df=df.iloc[:,[1,2,6,8,9,13,12,15,16,10,11]]\n",
        "\t\tnew_df.columns=['Zone_Climatique','Date_Acquisition','Pays','Elevation(m)','FRP','WordlCover','Satellite','Mois','Annee','Lat(°)','Long(°)']\n",
        "\t\tnew_df['WordlCover']=new_df['WordlCover'].replace([10, 20, 30, 40], [\"Tree cover\", \"Shrubland\", \"Grassland\", \"Cropland\"])\n",
        "\n",
        "\t\t# Write the filtered DataFrame to a CSV file\n",
        "\t\tnew_df.to_csv(dir_out, index=False)\n",
        "\t\tprint(\"Processus Nettoyage des données MCD14ML en Pandas terminée\")\n",
        "\n",
        "\t\treturn new_df\n",
        "\texcept Exception as e:\n",
        "\t\tprint(f\"An error occurred: {e}\")"
      ],
      "metadata": {
        "colab": {
          "base_uri": "https://localhost:8080/",
          "height": 17
        },
        "id": "ltUFq6YsWC4B",
        "outputId": "d5a2219e-e74c-4f5d-bda4-9344e4ffcac7"
      },
      "execution_count": null,
      "outputs": [
        {
          "output_type": "display_data",
          "data": {
            "text/plain": [
              "<IPython.core.display.HTML object>"
            ],
            "text/html": [
              "\n",
              "            <style>\n",
              "                .geemap-dark {\n",
              "                    --jp-widgets-color: white;\n",
              "                    --jp-widgets-label-color: white;\n",
              "                    --jp-ui-font-color1: white;\n",
              "                    --jp-layout-color2: #454545;\n",
              "                    background-color: #383838;\n",
              "                }\n",
              "\n",
              "                .geemap-dark .jupyter-button {\n",
              "                    --jp-layout-color3: #383838;\n",
              "                }\n",
              "\n",
              "                .geemap-colab {\n",
              "                    background-color: var(--colab-primary-surface-color, white);\n",
              "                }\n",
              "\n",
              "                .geemap-colab .jupyter-button {\n",
              "                    --jp-layout-color3: var(--colab-primary-surface-color, white);\n",
              "                }\n",
              "            </style>\n",
              "            "
            ]
          },
          "metadata": {}
        }
      ]
    },
    {
      "cell_type": "code",
      "source": [
        "filtZonesSeches(\"/content/drive/MyDrive/ content drive MyDrive PFE_CIRAD_AMAP/MODWorldCoverv5.csv\",\"/content/drive/MyDrive/PFE_CIRAD_AMAP/1_MCD14ML/Inter_data_ThermalAnomalies/MODWorldCover_fil.csv\")"
      ],
      "metadata": {
        "colab": {
          "base_uri": "https://localhost:8080/",
          "height": 34
        },
        "id": "TFY1ToAP3h9t",
        "outputId": "68342159-4279-4522-8e44-bc1abb02e8fb"
      },
      "execution_count": null,
      "outputs": [
        {
          "output_type": "display_data",
          "data": {
            "text/plain": [
              "<IPython.core.display.HTML object>"
            ],
            "text/html": [
              "\n",
              "            <style>\n",
              "                .geemap-dark {\n",
              "                    --jp-widgets-color: white;\n",
              "                    --jp-widgets-label-color: white;\n",
              "                    --jp-ui-font-color1: white;\n",
              "                    --jp-layout-color2: #454545;\n",
              "                    background-color: #383838;\n",
              "                }\n",
              "\n",
              "                .geemap-dark .jupyter-button {\n",
              "                    --jp-layout-color3: #383838;\n",
              "                }\n",
              "\n",
              "                .geemap-colab {\n",
              "                    background-color: var(--colab-primary-surface-color, white);\n",
              "                }\n",
              "\n",
              "                .geemap-colab .jupyter-button {\n",
              "                    --jp-layout-color3: var(--colab-primary-surface-color, white);\n",
              "                }\n",
              "            </style>\n",
              "            "
            ]
          },
          "metadata": {}
        },
        {
          "output_type": "stream",
          "name": "stdout",
          "text": [
            "Processus Nettoyage des données MCD14ML en Pandas terminée\n"
          ]
        }
      ]
    },
    {
      "cell_type": "markdown",
      "source": [
        "## *6. Use of ST-DBSCAN Cluster Spatio-Temporal in Qgis*"
      ],
      "metadata": {
        "id": "znq0p9xP2zns"
      }
    },
    {
      "cell_type": "markdown",
      "source": [
        "## *7. Data Filtering Post-Qgis*"
      ],
      "metadata": {
        "id": "T5pI8LRDWHfD"
      }
    },
    {
      "cell_type": "code",
      "source": [
        "# -*- coding: utf-8 -*-\n",
        "\"\"\"\n",
        "Created on 16/07/2024 14:05:23\n",
        "Version 2.1.0\n",
        "@author: jvilla\n",
        "\"\"\"\n",
        "def filClusters(dir_csv,dir_out):\n",
        "\t\"\"\"\n",
        "\tThis function takes a CSV file and filters by cluster ID.\n",
        "\n",
        "\tParameters:\n",
        "\t-------------\n",
        "\tdir_csv: str\n",
        "\t\tPath to the CSV file to filter.\n",
        "\tdir_out: str\n",
        "\t\tPath to the output CSV file.\n",
        "\n",
        "\tReturns:\n",
        "\t-------------\n",
        "\tdf: pd.DataFrame\n",
        "\t\tFiltered DataFrame.\n",
        "\t\"\"\"\n",
        "\ttry:\n",
        "\t\t# Read the CSV file\n",
        "\t\tdf=pd.read_csv(dir_csv)\n",
        "\n",
        "\t\t# Separate rows with and without cluster IDs\n",
        "\t\tdf_slice1=df[df['CLUSTER_ID'].isna()]#Independent Fires\n",
        "\t\tdf_slice2=df[~df['CLUSTER_ID'].isna()]#Interdependent Fires\n",
        "\n",
        "\t\t# Sort and remove duplicates\n",
        "\t\tdf_slice2=df_slice2.sort_values(by=['Date_Acquisition'])\n",
        "\t\tdf_slice2= df_slice2.drop_duplicates(subset=[\"CLUSTER_ID\"],keep='first')\n",
        "\n",
        "\t\t# Combine the slices back together\n",
        "\t\tdf=pd.concat([df_slice1,df_slice2],axis=0,ignore_index=True)\n",
        "\n",
        "\t\t# Ensure only the first 11 columns are included in the output\n",
        "\t\tdf=df.iloc[:,:11]\n",
        "\n",
        "\t\t# Write the filtered DataFrame to a CSV file\n",
        "\t\tdf.to_csv(dir_out, index=False)\n",
        "\n",
        "\t\tprint(\"Processus Nettoyage des données MCD14ML en Post Clustering terminée\")\n",
        "\n",
        "\t\treturn df\n"
      ],
      "metadata": {
        "id": "9XGijsb3-2UP"
      },
      "execution_count": null,
      "outputs": []
    },
    {
      "cell_type": "code",
      "source": [
        "filClusters('/content/drive/MyDrive/PFE_CIRAD_AMAP/1_MCD14ML/Inter_data_ThermalAnomalies/MODWorldCover_fil_stdscan15j.csv','/content/drive/MyDrive/PFE_CIRAD_AMAP/1_MCD14ML/Outputs_ThermalAnomalies/MCD14ML_TA.csv')"
      ],
      "metadata": {
        "colab": {
          "base_uri": "https://localhost:8080/"
        },
        "id": "JO6plpYXV2d5",
        "outputId": "e94dffef-9303-4b27-dd3e-88b89aa25afa"
      },
      "execution_count": null,
      "outputs": [
        {
          "output_type": "stream",
          "name": "stdout",
          "text": [
            "Processus Nettoyage des données MCD14ML en Post Clustering terminée\n"
          ]
        }
      ]
    },
    {
      "cell_type": "markdown",
      "source": [
        "## **8. Soil Surface** #"
      ],
      "metadata": {
        "id": "stIUBWIwb5t0"
      }
    },
    {
      "cell_type": "code",
      "source": [
        "# -*- coding: utf-8 -*-\n",
        "\"\"\"\n",
        "Created on 16/07/2024 15:40:41\n",
        "Version 1.1.0\n",
        "@author: jvilla\n",
        "\"\"\"\n",
        "def merge_csv_SurfaceSoil(dir,pays):\n",
        "  \"\"\"\n",
        "  This function merge csv files into one and summarize by Sum of area\n",
        "\n",
        "  Parameters:\n",
        "  -------------\n",
        "  dir: str\n",
        "    Directory of the input CSV files.\n",
        "  pays: list\n",
        "    List of countries.\n",
        "\n",
        "\tReturns:\n",
        "\t-------------\n",
        "  ALL_csv: pd.DataFrame\n",
        "    Merged DataFrame.\n",
        "  \"\"\"\n",
        "\n",
        "  for i in tqdm(range(0,len(pays))):\n",
        "    name=pays[i]\n",
        "    path_fil=os.path.join(dir,f'*{name}*.csv')\n",
        "    list_files = glob.glob(path_fil)\n",
        "    All_csv = pd.concat(map(pd.read_csv, list_files), ignore_index=True)\n",
        "    All_csv = All_csv.groupby(['ADM0_NAME'])['area'].sum().reset_index()\n",
        "    All_csv.to_csv(f'{dir}/{name}_all.csv', index=False, encoding='utf-8-sig')#testee dans le code integree\n",
        "    print(f\"Merge csv Terminée étape {i}/3\")\n",
        "    return ALL_csv"
      ],
      "metadata": {
        "id": "3BBAs30euJPu"
      },
      "execution_count": null,
      "outputs": []
    },
    {
      "cell_type": "code",
      "source": [
        "dir_1='/content/drive/MyDrive/PFE_CIRAD_AMAP/1_MCD14ML/Inter_data_ThermalAnomalies'\n",
        "pays=[\"TreeCover_Area_part\",\"Shrubland_Area_part\",\"Grassland_Area_part\",\"Cropland_Area_part\"]\n",
        "\n",
        "merge_csv_SurfaceSoil(dir_1,pays)\n",
        "\n",
        "print(\"Processus Surface Soil WordlCover CSV Format Terminée\")"
      ],
      "metadata": {
        "colab": {
          "base_uri": "https://localhost:8080/",
          "height": 136,
          "referenced_widgets": [
            "829ac6eb3db84f2e89115e7886dc9ba6",
            "6df752da90c44a8ab8b0c3f36b7402a1",
            "fcb726b8edff4082a71e9b91347cd4ba",
            "0c84e2d44d634077bcd409c06012d0e8",
            "fa6c05df4c104a138e409c913e879fd0",
            "95a8da646a554ea6b305e99eb858f342",
            "949a8ebd476a4e16aa8bddf5459cf25b",
            "dce150cef1a043f9a0f01e175f6fce0e",
            "31930441fecb424d9b5ff182bed5472a",
            "50ea0736847a44c8a50df298ebc3faed",
            "1bd14841b0dd47d5afa5122dbb9689ab"
          ]
        },
        "id": "KCYuVYQkvEuS",
        "outputId": "80a11b48-4171-4315-f34a-c962850b58cd"
      },
      "execution_count": null,
      "outputs": [
        {
          "output_type": "display_data",
          "data": {
            "text/plain": [
              "  0%|          | 0/4 [00:00<?, ?it/s]"
            ],
            "application/vnd.jupyter.widget-view+json": {
              "version_major": 2,
              "version_minor": 0,
              "model_id": "829ac6eb3db84f2e89115e7886dc9ba6"
            }
          },
          "metadata": {}
        },
        {
          "output_type": "stream",
          "name": "stdout",
          "text": [
            "Merge csv Terminée étape 0/4\n",
            "Merge csv Terminée étape 1/4\n",
            "Merge csv Terminée étape 2/4\n",
            "Merge csv Terminée étape 3/4\n",
            "Processus Surface Soil WordlCover CSV Format Terminée\n"
          ]
        }
      ]
    },
    {
      "cell_type": "code",
      "source": [
        "dtf=pd.read_csv('/content/drive/MyDrive/PFE_CIRAD_AMAP/1_MCD14ML/Inter_data_ThermalAnomalies/Grassland_Area_part_all.csv')\n",
        "Grassland_area=dtf.groupby(['ADM0_NAME'])['area'].sum().reset_index()\n",
        "#Grassland_area.head()\n",
        "Grassland_area.to_csv('/content/drive/MyDrive/PFE_CIRAD_AMAP/1_MCD14ML/Inter_data_ThermalAnomalies/Grassland_Area_part_all2.csv', index=False, encoding='utf-8-sig')"
      ],
      "metadata": {
        "id": "3-G0VHQ6fxeu"
      },
      "execution_count": null,
      "outputs": []
    }
  ]
}