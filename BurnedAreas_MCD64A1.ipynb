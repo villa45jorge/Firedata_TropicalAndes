{
  "cells": [
    {
      "cell_type": "markdown",
      "metadata": {
        "id": "1jaaXzMDH3hj"
      },
      "source": [
        "## **BURNED AREA MCD64A1 FOR ANDES FIRES PIPELINE**"
      ]
    },
    {
      "cell_type": "markdown",
      "metadata": {
        "id": "KU1fTVfRHgH2"
      },
      "source": [
        " * Import Libraries -> Check disponibilities of the libraries\n",
        " * Import Datasets -> Take dataset from GEE Catalog\n",
        " * Final Code:\n",
        "  1. Preprocesing MCD64A1 -> Extract data from Data Catalog GEE.\n",
        "  2. Download Burned Areas CSV -> Dowlondaing raw data format CSV\n",
        "  3. Download Burned Areas SHP -> Dowlondaing raw data format SHP\n",
        "  4. Data Filtering MCD64A1 -> Filtering and merge Burned Area CSV and SHP\n",
        "   "
      ]
    },
    {
      "cell_type": "markdown",
      "metadata": {
        "id": "Pan7ED6TxDBH"
      },
      "source": [
        "#**Import Libraries**"
      ]
    },
    {
      "cell_type": "code",
      "execution_count": null,
      "metadata": {
        "id": "ZuKqNuKqxRZK"
      },
      "outputs": [],
      "source": [
        "import ee\n",
        "import geemap\n",
        "from datetime import datetime\n",
        "import pandas as pd\n",
        "import numpy as np\n",
        "import geopandas as gpd\n",
        "from tqdm.notebook import tqdm\n",
        "\n",
        "#Compte Earth Engine\n",
        "ee.Authenticate()\n",
        "ee.Initialize(project='ee-villa45ramos')"
      ]
    },
    {
      "cell_type": "markdown",
      "metadata": {
        "id": "Adi0-kZF1PHa"
      },
      "source": [
        "#**Import Datasets**"
      ]
    },
    {
      "cell_type": "code",
      "execution_count": null,
      "metadata": {
        "colab": {
          "base_uri": "https://localhost:8080/",
          "height": 17
        },
        "id": "0KZYtC861ZFh",
        "outputId": "7254d155-580a-4872-97df-28868a6b2ccb"
      },
      "outputs": [
        {
          "data": {
            "text/html": [
              "\n",
              "            <style>\n",
              "                .geemap-dark {\n",
              "                    --jp-widgets-color: white;\n",
              "                    --jp-widgets-label-color: white;\n",
              "                    --jp-ui-font-color1: white;\n",
              "                    --jp-layout-color2: #454545;\n",
              "                    background-color: #383838;\n",
              "                }\n",
              "\n",
              "                .geemap-dark .jupyter-button {\n",
              "                    --jp-layout-color3: #383838;\n",
              "                }\n",
              "\n",
              "                .geemap-colab {\n",
              "                    background-color: var(--colab-primary-surface-color, white);\n",
              "                }\n",
              "\n",
              "                .geemap-colab .jupyter-button {\n",
              "                    --jp-layout-color3: var(--colab-primary-surface-color, white);\n",
              "                }\n",
              "            </style>\n",
              "            "
            ],
            "text/plain": [
              "<IPython.core.display.HTML object>"
            ]
          },
          "metadata": {},
          "output_type": "display_data"
        }
      ],
      "source": [
        "datasets= {'dem': ee.Image(\"USGS/SRTMGL1_003\"),\n",
        "           'WorldCoverESA':ee.ImageCollection('ESA/WorldCover/v100'),\n",
        "           'MCD64A1':ee.ImageCollection(\"MODIS/061/MCD64A1\"),\n",
        "           'countries':ee.FeatureCollection(\"FAO/GAUL_SIMPLIFIED_500m/2015/level0\"),\n",
        "           'andes':ee.Geometry.BBox(-84.0, -30.0, -62.0, 12.0).buffer(1000),\n",
        "           'dir_csv':'/content/drive/MyDrive/PFE_CIRAD_AMAP/2_MCD64A1/Inter_data_BurnedArea/MODIS_BurnedAreas_country.csv',\n",
        "\t\t       'dir_shp':'/content/drive/MyDrive/PFE_CIRAD_AMAP/2_MCD64A1/Inter_data_BurnedArea/MODIS_BurnedAreas_country.shp'}"
      ]
    },
    {
      "cell_type": "markdown",
      "metadata": {
        "id": "zvUokoK9JGZn"
      },
      "source": [
        "#**Final Code**"
      ]
    },
    {
      "cell_type": "markdown",
      "source": [
        "## *1. Preprocesing MCD64A1*"
      ],
      "metadata": {
        "id": "LOBPlShU24Rk"
      }
    },
    {
      "cell_type": "code",
      "execution_count": null,
      "metadata": {
        "colab": {
          "base_uri": "https://localhost:8080/",
          "height": 34
        },
        "id": "Of-sUG6ZJOC6",
        "outputId": "392292be-3b2c-4754-db95-e31f49f4851b"
      },
      "outputs": [
        {
          "output_type": "display_data",
          "data": {
            "text/plain": [
              "<IPython.core.display.HTML object>"
            ],
            "text/html": [
              "\n",
              "            <style>\n",
              "                .geemap-dark {\n",
              "                    --jp-widgets-color: white;\n",
              "                    --jp-widgets-label-color: white;\n",
              "                    --jp-ui-font-color1: white;\n",
              "                    --jp-layout-color2: #454545;\n",
              "                    background-color: #383838;\n",
              "                }\n",
              "\n",
              "                .geemap-dark .jupyter-button {\n",
              "                    --jp-layout-color3: #383838;\n",
              "                }\n",
              "\n",
              "                .geemap-colab {\n",
              "                    background-color: var(--colab-primary-surface-color, white);\n",
              "                }\n",
              "\n",
              "                .geemap-colab .jupyter-button {\n",
              "                    --jp-layout-color3: var(--colab-primary-surface-color, white);\n",
              "                }\n",
              "            </style>\n",
              "            "
            ]
          },
          "metadata": {}
        },
        {
          "output_type": "stream",
          "name": "stdout",
          "text": [
            "Processus FireActivity terminée\n"
          ]
        }
      ],
      "source": [
        "# -*- coding: utf-8 -*-\n",
        "\"\"\"\n",
        "Modified on 28/09/2024 15:41:06\n",
        "Version 3.0.0\n",
        "@author: jvilla\n",
        "\"\"\"\n",
        "def BurnedAreaMODIS(roi,dem,wc,mcd64a1,pays):\n",
        "  \"\"\"\n",
        "  This function extracts Burned Area from MODIS MCD64A1.\n",
        "\n",
        "  Parameters:\n",
        "  -------------\n",
        "  roi: ee.Geometry\n",
        "    Region of interest (geometry).\n",
        "  dem: ee.Image\n",
        "    DEM Elevation data.\n",
        "  wc: ee.ImageCollection\n",
        "    WorldCover image collection.\n",
        "  mcd64a1: ee.ImageCollection\n",
        "    MODIS MCD64A1 image collection.\n",
        "  pays: ee.FeatureCollection\n",
        "    List of countries.\n",
        "\n",
        "  Returns:\n",
        "  -------------\n",
        "  Extract_BA: ee.FeatureCollection\n",
        "    Collection of burned area features.\n",
        "  \"\"\"\n",
        "  try:\n",
        "    def elevation(dem,roi):\n",
        "      dem2 = dem.clip(roi)\n",
        "      elev = dem2.gte(2000)\n",
        "      elev_moscaic = dem2.updateMask(elev)\n",
        "      return elev_moscaic\n",
        "\n",
        "    def worldcover(roi,wc):\n",
        "      def clipStudyArea(img):\n",
        "        return img.clip(roi)\n",
        "      return wc.filterBounds(roi).map(clipStudyArea).mosaic()\n",
        "\n",
        "    elev_mosaic = elevation(dem, roi)\n",
        "\n",
        "    def BurnedArea(mcd64a1,roi,elev_moscaic):\n",
        "      def clipStudyArea(img):\n",
        "        return img.clip(roi)\n",
        "      def cpPro(img):\n",
        "          return img.copyProperties(img, [\"system:time_start\"])\n",
        "      burnedArea = mcd64a1.filterBounds(elev_moscaic.geometry()).map(clipStudyArea).map(cpPro)\n",
        "      return burnedArea\n",
        "\n",
        "    def country(pays):\n",
        "      countries = ee.List([195,51,12,33,73,57,263]); #Peru, Chile, Argentina,BOlivia, Ecuador, Colombia, Venezuela\n",
        "      countriesshp = pays.filter(ee.Filter.inList('ADM0_CODE',countries))\n",
        "      filterc = ee.Filter.inList('ADM0_CODE',countries)\n",
        "      countriesshp = pays.filter(filterc)\n",
        "      def remove_non_polygons(geometry):\n",
        "        return ee.Algorithms.If(ee.Algorithms.IsEqual(ee.Geometry(geometry).type(),ee.String('Polygon')),ee.Feature(ee.Geometry(geometry)),None)\n",
        "      def clean_polygon_feature(feature):\n",
        "        geometries = feature.geometry().geometries()\n",
        "        geometries_cleaned = ee.FeatureCollection(geometries.map(remove_non_polygons)).union().first()\n",
        "        return ee.Feature(feature).setGeometry(geometries_cleaned.geometry())\n",
        "      return countriesshp.map(clean_polygon_feature)\n",
        "\n",
        "    countries_shp = country(pays)\n",
        "\n",
        "    def ToImage(countries_shp):\n",
        "      toImage=countries_shp.reduceToImage(['ADM0_CODE'], 'first')#Convert to Image (needs numering or int input)\n",
        "      return toImage\n",
        "\n",
        "    wc_mosaic = worldcover(roi, wc)\n",
        "    toImage_result = ToImage(countries_shp)\n",
        "    burnedArea = BurnedArea(mcd64a1, roi, elev_mosaic)\n",
        "\n",
        "    def summary(wc_mosaic,dem,roi,toImage_result,burnedArea):\n",
        "      def selec_prop(image):\n",
        "        wc_prop = wc_mosaic.select('Map')\n",
        "        elev_prop = dem.clip(roi).select('elevation')\n",
        "        country = toImage_result.select('first').rename('country')\n",
        "        return image.addBands(wc_prop).addBands(elev_prop).addBands(country)\n",
        "      sum_ba=burnedArea.map(selec_prop)\n",
        "      return sum_ba\n",
        "\n",
        "    sum_ba=summary(wc_mosaic,dem,roi,toImage_result,burnedArea)\n",
        "\n",
        "    def GetProjection(burnedArea):\n",
        "      projec = ee.Image(burnedArea.first()).projection().nominalScale()\n",
        "      return projec\n",
        "\n",
        "    projec_ba=GetProjection(burnedArea)\n",
        "\n",
        "    def Extract_Burned_Areas(projec):\n",
        "      def trf_to_fc(image):\n",
        "        image = image.reduceToVectors(\n",
        "                  reducer=ee.Reducer.first(),\n",
        "                  scale=projec_ba,\n",
        "                  maxPixels=1e10)\n",
        "        return ee.FeatureCollection(image)\n",
        "\n",
        "      sum_flatten = sum_ba.map(trf_to_fc).flatten()\n",
        "      def shapeCount(feat):\n",
        "        feat = ee.Feature(feat)\n",
        "        name = feat.get('ADM0_NAME')\n",
        "        def namecount(sum_flatten):\n",
        "          return ee.Feature(sum_flatten).set('Country', name)\n",
        "        return sum_flatten.filterBounds(feat.geometry()).map(namecount)\n",
        "      extract_BA = countries_shp.map(shapeCount).flatten()\n",
        "      return extract_BA\n",
        "\n",
        "    Extract_BA=Extract_Burned_Areas(GetProjection(sum_ba))\n",
        "    return Extract_BA\n",
        "\n",
        "  except Exception as e:\n",
        "    print(f\"An error occurred: {e}\")\n",
        "\n",
        "BurnedArea_Proces=BurnedAreaMODIS(datasets['andes'],datasets['dem'],datasets['WorldCoverESA'],datasets['MCD64A1'],datasets['countries'])\n",
        "print(\"Processus FireActivity terminée\")"
      ]
    },
    {
      "cell_type": "markdown",
      "metadata": {
        "id": "0xUHNT2kJNyS"
      },
      "source": [
        "## *2.  Download Burned Areas CSV*"
      ]
    },
    {
      "cell_type": "code",
      "execution_count": null,
      "metadata": {
        "colab": {
          "base_uri": "https://localhost:8080/",
          "height": 17
        },
        "id": "bHeXkhDmJVtr",
        "outputId": "68aac377-5220-4826-9838-de8a66c5706d"
      },
      "outputs": [
        {
          "data": {
            "text/html": [
              "\n",
              "            <style>\n",
              "                .geemap-dark {\n",
              "                    --jp-widgets-color: white;\n",
              "                    --jp-widgets-label-color: white;\n",
              "                    --jp-ui-font-color1: white;\n",
              "                    --jp-layout-color2: #454545;\n",
              "                    background-color: #383838;\n",
              "                }\n",
              "\n",
              "                .geemap-dark .jupyter-button {\n",
              "                    --jp-layout-color3: #383838;\n",
              "                }\n",
              "\n",
              "                .geemap-colab {\n",
              "                    background-color: var(--colab-primary-surface-color, white);\n",
              "                }\n",
              "\n",
              "                .geemap-colab .jupyter-button {\n",
              "                    --jp-layout-color3: var(--colab-primary-surface-color, white);\n",
              "                }\n",
              "            </style>\n",
              "            "
            ],
            "text/plain": [
              "<IPython.core.display.HTML object>"
            ]
          },
          "metadata": {},
          "output_type": "display_data"
        }
      ],
      "source": [
        "task = ee.batch.Export.table.toDrive(\n",
        "    collection=BurnedArea_Proces,\n",
        "    description='MODIS_BurnedAreas_country',\n",
        "    folder='Inter_data_BurnedArea',\n",
        "    fileFormat='CSV')\n",
        "\n",
        "task.start()"
      ]
    },
    {
      "cell_type": "markdown",
      "metadata": {
        "id": "DXb2kKjmJV77"
      },
      "source": [
        "## *3. Download Burned Areas SHP*"
      ]
    },
    {
      "cell_type": "code",
      "execution_count": null,
      "metadata": {
        "colab": {
          "base_uri": "https://localhost:8080/",
          "height": 17
        },
        "id": "NXPxkD8aJbC2",
        "outputId": "4144e4cc-de59-487c-e213-cdccd7758ebf"
      },
      "outputs": [
        {
          "data": {
            "text/html": [
              "\n",
              "            <style>\n",
              "                .geemap-dark {\n",
              "                    --jp-widgets-color: white;\n",
              "                    --jp-widgets-label-color: white;\n",
              "                    --jp-ui-font-color1: white;\n",
              "                    --jp-layout-color2: #454545;\n",
              "                    background-color: #383838;\n",
              "                }\n",
              "\n",
              "                .geemap-dark .jupyter-button {\n",
              "                    --jp-layout-color3: #383838;\n",
              "                }\n",
              "\n",
              "                .geemap-colab {\n",
              "                    background-color: var(--colab-primary-surface-color, white);\n",
              "                }\n",
              "\n",
              "                .geemap-colab .jupyter-button {\n",
              "                    --jp-layout-color3: var(--colab-primary-surface-color, white);\n",
              "                }\n",
              "            </style>\n",
              "            "
            ],
            "text/plain": [
              "<IPython.core.display.HTML object>"
            ]
          },
          "metadata": {},
          "output_type": "display_data"
        }
      ],
      "source": [
        "task = ee.batch.Export.table.toDrive(\n",
        "    collection=BurnedArea_Proces,\n",
        "    description='MODIS_BurnedAreas_country',\n",
        "    folder='Inter_data_BurnedArea',\n",
        "    fileFormat='SHP')\n",
        "\n",
        "task.start()"
      ]
    },
    {
      "cell_type": "markdown",
      "metadata": {
        "id": "-ZXDWAPm5MFM"
      },
      "source": [
        "## *4. Data Filtering MCD64A1*"
      ]
    },
    {
      "cell_type": "code",
      "execution_count": null,
      "metadata": {
        "id": "Yg8sygD16jwR"
      },
      "outputs": [],
      "source": [
        "# -*- coding: utf-8 -*-\n",
        "\"\"\"\n",
        "Modified on 28/09/2024 16:04:13\n",
        "Version 3.0.0\n",
        "@author: jvilla\n",
        "\"\"\"\n",
        "\"\"\"\n",
        "This function filter and merge Burned Area CSV and SHP\n",
        "\n",
        "Parameters:\n",
        "-----------\n",
        "dir_csv: str\n",
        "\tPath to the CSV file to filter.\n",
        "dir_shp: str\n",
        "\tPath to the SHP file to filter.\n",
        "\n",
        "Returns:\n",
        "-----------\n",
        "gdtf: geopandas.GeoDataFrame\n",
        "\tFiltered and merged GeoDataFrame.\n",
        "\n",
        "\"\"\"\n",
        "def filt_concat(dir_csv,dir_shp):\n",
        "\ttry:\n",
        "\t\tdtf=pd.read_csv(dir_csv)\n",
        "\t\tgdft=gpd.read_file(dir_shp)\n",
        "\t\tgdft_concat = gpd.GeoDataFrame(pd.concat([dtf, gdft],axis=1),crs=gdft.crs)\n",
        "\t\tgdtf=gdft_concat.iloc[:,[0,1,2,3,4,8,9,20]]\n",
        "\t\tgdtf=gdtf[gdtf['elevation'] >= 2000]\n",
        "\t\tgdtf=gdtf.to_crs(3857)\n",
        "\t\tgdtf[\"latitude\"]=gdtf.centroid.y\n",
        "\t\tconditionlist = [\n",
        "    (gdtf[\"latitude\"] >= -557305.2572745768),\n",
        "    (gdtf[\"latitude\"] >= -893463.751012646) & (gdtf[\"latitude\"] < -557305.2572745768),\n",
        "    (gdtf[\"latitude\"] <= -893463.751012646)]\n",
        "\t\tchoicelist = [\"Zone_Equatorial\", \"Transition_Zone\", \"South_Zone\"]\n",
        "\t\tgdtf[\"Zone_Clima\"] = np.select(conditionlist, choicelist, default=\"Not Specified\")\n",
        "\t\tgdtf=gdtf[gdtf['Map'] <= 40]\n",
        "\t\tgdtf[\"year\"]=\"\"\n",
        "\t\tgdtf[\"month\"]=\"\"\n",
        "\t\tfor i in tqdm(range(0,gdtf.shape[0])):\n",
        "\t\t\tgdtf[\"year\"].iloc[i]=gdtf['system:index'].iloc[i][21:25]\n",
        "\t\t\tgdtf[\"month\"].iloc[i]=gdtf['system:index'].iloc[i][26:28]\n",
        "\t\tgdtf=gdtf.iloc[:,[1,2,3,4,5,6,9,10,11,7]]\n",
        "\t\tgdtf.columns=['Pays','FirstDate','LastDay','WordlCover','Elevation(m)','BurnDate(doy)','Zone_Climatique','Annee','Month','geometry']\n",
        "\t\tgdtf['WordlCover']=gdtf['WordlCover'].replace([10, 20, 30, 40], [\"Tree cover\", \"Shrubland\", \"Grassland\", \"Cropland\"])\n",
        "\t\treturn gdtf\n",
        "\texcept Exception as e:\n",
        "\t\tprint(f\"An error occurred: {e}\")\n",
        "\n",
        "MCD64A1_BA=filt_concat(datasets['dir_csv'],datasets['dir_shp']).to_file('/content/drive/MyDrive/PFE_CIRAD_AMAP/2_MCD64A1/Outputs_BurnedArea/MODIS64A1_BA_join.shp')\n",
        "print(\"Processus terminée Filtration Donnees CSV et SHP\")"
      ]
    }
  ],
  "metadata": {
    "colab": {
      "provenance": []
    },
    "kernelspec": {
      "display_name": "Python 3",
      "name": "python3"
    },
    "language_info": {
      "name": "python"
    }
  },
  "nbformat": 4,
  "nbformat_minor": 0
}